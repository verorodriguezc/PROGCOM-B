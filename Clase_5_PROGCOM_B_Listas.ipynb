{
  "nbformat": 4,
  "nbformat_minor": 0,
  "metadata": {
    "colab": {
      "provenance": []
    },
    "kernelspec": {
      "name": "python3",
      "display_name": "Python 3"
    },
    "language_info": {
      "name": "python"
    }
  },
  "cells": [
    {
      "cell_type": "markdown",
      "source": [
        "##LISTAS\n",
        "1. Un nuevo tipo de dato\n",
        "2. Es mutable  dentro de la misma lista\n",
        "3. Indexación: hay un orden\n",
        "4. Hay un número finito de posiciones\n",
        "5. Todas las listas se abren y se cierran [] y se separan con ,\n",
        "\n",
        "Sintaxis\n",
        "```\n",
        "nombre_lista=[]#crear lista vacía\n",
        "flores=[\"margarita\", \"rosa\", \"tulipan\"]\n",
        "```\n",
        "listas por extrensión.\n"
      ],
      "metadata": {
        "id": "27faLHM-8Zb3"
      }
    },
    {
      "cell_type": "code",
      "execution_count": null,
      "metadata": {
        "colab": {
          "base_uri": "https://localhost:8080/",
          "height": 176
        },
        "id": "b1_Zo-Vj8Nd0",
        "outputId": "ef72030b-24cf-435c-830e-abde2a0bcaf5"
      },
      "outputs": [
        {
          "output_type": "error",
          "ename": "IndexError",
          "evalue": "list assignment index out of range",
          "traceback": [
            "\u001b[0;31m---------------------------------------------------------------------------\u001b[0m",
            "\u001b[0;31mIndexError\u001b[0m                                Traceback (most recent call last)",
            "\u001b[0;32m/tmp/ipython-input-3239721179.py\u001b[0m in \u001b[0;36m<cell line: 0>\u001b[0;34m()\u001b[0m\n\u001b[1;32m      1\u001b[0m \u001b[0mnu\u001b[0m\u001b[0;34m=\u001b[0m\u001b[0;34m[\u001b[0m\u001b[0;34m]\u001b[0m\u001b[0;34m\u001b[0m\u001b[0;34m\u001b[0m\u001b[0m\n\u001b[1;32m      2\u001b[0m \u001b[0;32mfor\u001b[0m \u001b[0mi\u001b[0m \u001b[0;32min\u001b[0m \u001b[0mrange\u001b[0m \u001b[0;34m(\u001b[0m\u001b[0;36m1\u001b[0m\u001b[0;34m,\u001b[0m\u001b[0;36m11\u001b[0m\u001b[0;34m)\u001b[0m\u001b[0;34m:\u001b[0m\u001b[0;34m\u001b[0m\u001b[0;34m\u001b[0m\u001b[0m\n\u001b[0;32m----> 3\u001b[0;31m   \u001b[0mnu\u001b[0m\u001b[0;34m[\u001b[0m\u001b[0mi\u001b[0m\u001b[0;34m]\u001b[0m\u001b[0;34m=\u001b[0m\u001b[0mi\u001b[0m\u001b[0;34m\u001b[0m\u001b[0;34m\u001b[0m\u001b[0m\n\u001b[0m",
            "\u001b[0;31mIndexError\u001b[0m: list assignment index out of range"
          ]
        }
      ],
      "source": [
        "nu=[]\n",
        "for i in range (1,11):\n",
        "  nu[i]=i"
      ]
    },
    {
      "cell_type": "code",
      "source": [
        "for i in range (10):\n",
        "  nu.append(i+1)"
      ],
      "metadata": {
        "id": "jBHH-ZLg96PG"
      },
      "execution_count": null,
      "outputs": []
    },
    {
      "cell_type": "code",
      "source": [
        "nu"
      ],
      "metadata": {
        "colab": {
          "base_uri": "https://localhost:8080/"
        },
        "id": "h2HY1D_x-Jsl",
        "outputId": "7122bd1e-6e1d-4e58-aafb-2ca62a6c2a8a"
      },
      "execution_count": null,
      "outputs": [
        {
          "output_type": "execute_result",
          "data": {
            "text/plain": [
              "[1, 2, 3, 4, 5, 6, 7, 8, 9, 10]"
            ]
          },
          "metadata": {},
          "execution_count": 11
        }
      ]
    },
    {
      "cell_type": "code",
      "source": [
        "nombres=[]\n",
        "for i in range(3):\n",
        "  nombres.append(input(\"Ingrese un nombre: \"))"
      ],
      "metadata": {
        "colab": {
          "base_uri": "https://localhost:8080/"
        },
        "id": "jUcy8Ouo-jvl",
        "outputId": "b394421d-39b5-43dd-90ec-d3ddbb3efca1"
      },
      "execution_count": null,
      "outputs": [
        {
          "name": "stdout",
          "output_type": "stream",
          "text": [
            "Ingrese un nombre: Carlos\n",
            "Ingrese un nombre: Mnauel\n",
            "Ingrese un nombre: Harry\n"
          ]
        }
      ]
    },
    {
      "cell_type": "code",
      "source": [
        "nombres"
      ],
      "metadata": {
        "colab": {
          "base_uri": "https://localhost:8080/"
        },
        "id": "DXYxeA-k-4zG",
        "outputId": "8ea333c7-55b7-4b26-91e8-e7199337eca4"
      },
      "execution_count": null,
      "outputs": [
        {
          "output_type": "execute_result",
          "data": {
            "text/plain": [
              "['Carlos', 'Mnauel', 'Harry']"
            ]
          },
          "metadata": {},
          "execution_count": 14
        }
      ]
    },
    {
      "cell_type": "markdown",
      "source": [
        "##Indexación en listas\n",
        "*Recordar que python cuenta desde 0*\n",
        "\n",
        "```\n",
        "Listas=[Elemento1, Elemento2,Elemento3]\n",
        "Lista[0]=Elemento1\n",
        "Lista[3]=error fuera de rango\n",
        "```\n",
        "\n"
      ],
      "metadata": {
        "id": "N1QhUcoGDYsR"
      }
    },
    {
      "cell_type": "code",
      "source": [
        "#Indexación negativa\n",
        "Lista_num=[1,2,3,4,5,6,7,8,9,10]\n",
        "Lista_num[-1]"
      ],
      "metadata": {
        "colab": {
          "base_uri": "https://localhost:8080/"
        },
        "id": "NKoC3D2bDg0Z",
        "outputId": "be91a90c-f69d-4e97-979d-73df36fdd9c1"
      },
      "execution_count": null,
      "outputs": [
        {
          "output_type": "execute_result",
          "data": {
            "text/plain": [
              "10"
            ]
          },
          "metadata": {},
          "execution_count": 49
        }
      ]
    },
    {
      "cell_type": "code",
      "source": [
        "Lista_num[-2]"
      ],
      "metadata": {
        "colab": {
          "base_uri": "https://localhost:8080/"
        },
        "id": "jAiizMQfE0BL",
        "outputId": "d012fe45-640c-4a4f-93f6-d6f81621236c"
      },
      "execution_count": null,
      "outputs": [
        {
          "output_type": "execute_result",
          "data": {
            "text/plain": [
              "9"
            ]
          },
          "metadata": {},
          "execution_count": 50
        }
      ]
    },
    {
      "cell_type": "code",
      "source": [
        "Lista_num[len(Lista_num)-1]"
      ],
      "metadata": {
        "colab": {
          "base_uri": "https://localhost:8080/"
        },
        "id": "Nyx2F1S_E7DH",
        "outputId": "6eb0d318-9062-4e42-fe77-c4d5ef30b3f7"
      },
      "execution_count": null,
      "outputs": [
        {
          "output_type": "execute_result",
          "data": {
            "text/plain": [
              "10"
            ]
          },
          "metadata": {},
          "execution_count": 51
        }
      ]
    },
    {
      "cell_type": "code",
      "source": [
        "Lista_num[::]"
      ],
      "metadata": {
        "colab": {
          "base_uri": "https://localhost:8080/"
        },
        "id": "5CYU9PC7Fd24",
        "outputId": "52166c42-d965-43fe-844b-75e51d61523f"
      },
      "execution_count": null,
      "outputs": [
        {
          "output_type": "execute_result",
          "data": {
            "text/plain": [
              "[1, 2, 3, 4, 5, 6, 7, 8, 9, 10]"
            ]
          },
          "metadata": {},
          "execution_count": 52
        }
      ]
    },
    {
      "cell_type": "code",
      "source": [
        "Lista_num[:2]\n"
      ],
      "metadata": {
        "colab": {
          "base_uri": "https://localhost:8080/"
        },
        "id": "fX0T_NZ2FmmH",
        "outputId": "7471adc5-4e1a-4dd2-add5-da16a35b05ae"
      },
      "execution_count": null,
      "outputs": [
        {
          "output_type": "execute_result",
          "data": {
            "text/plain": [
              "[1, 2]"
            ]
          },
          "metadata": {},
          "execution_count": 53
        }
      ]
    },
    {
      "cell_type": "markdown",
      "source": [
        "##Listas por compresión\n",
        "Son expresiones que generan listas\n",
        "Sintaxis:\n",
        "\n",
        "```\n",
        "nombre_listas=[expresion for variable in iteración if condición]\n",
        "```\n",
        "\n"
      ],
      "metadata": {
        "id": "vGy5UAfz_Iyl"
      }
    },
    {
      "cell_type": "markdown",
      "source": [
        "##Ejemplo"
      ],
      "metadata": {
        "id": "-w-IuiMs_7aE"
      }
    },
    {
      "cell_type": "code",
      "source": [
        "#Convertir una lista de oraciones en una lista de palabras\n",
        "oracion=[\"Aquí va una oración\", \"Aquí va otra oración\",\"Aqui va la tercera oracion \"]\n",
        "len(oracion)"
      ],
      "metadata": {
        "colab": {
          "base_uri": "https://localhost:8080/"
        },
        "id": "NVPQDW5-_zRM",
        "outputId": "269ee36c-28a7-404c-f693-fbb5c1c453b7"
      },
      "execution_count": null,
      "outputs": [
        {
          "output_type": "execute_result",
          "data": {
            "text/plain": [
              "3"
            ]
          },
          "metadata": {},
          "execution_count": 40
        }
      ]
    },
    {
      "cell_type": "code",
      "source": [
        "palabras=[i.split() for i in oracion]\n",
        "palabras"
      ],
      "metadata": {
        "colab": {
          "base_uri": "https://localhost:8080/"
        },
        "id": "1HM5-oGHAOsk",
        "outputId": "d4342c6e-1f60-458d-f1ad-1a90782f2b13"
      },
      "execution_count": null,
      "outputs": [
        {
          "output_type": "execute_result",
          "data": {
            "text/plain": [
              "[['Aquí', 'va', 'una', 'oración'],\n",
              " ['Aquí', 'va', 'otra', 'oración'],\n",
              " ['Aqui', 'va', 'la', 'tercera', 'oracion']]"
            ]
          },
          "metadata": {},
          "execution_count": 41
        }
      ]
    },
    {
      "cell_type": "code",
      "source": [
        "len(palabras[2])"
      ],
      "metadata": {
        "colab": {
          "base_uri": "https://localhost:8080/"
        },
        "id": "ck96qm6iBa3j",
        "outputId": "5195c575-0448-4036-e5af-701b3461199f"
      },
      "execution_count": null,
      "outputs": [
        {
          "output_type": "execute_result",
          "data": {
            "text/plain": [
              "5"
            ]
          },
          "metadata": {},
          "execution_count": 42
        }
      ]
    },
    {
      "cell_type": "code",
      "source": [
        "#2. Obtener los pares de lista_num\n",
        "pares=[x for x in Lista_num if x%2==0]\n",
        "pares\n"
      ],
      "metadata": {
        "colab": {
          "base_uri": "https://localhost:8080/"
        },
        "id": "Ig4yqLLgF8bP",
        "outputId": "70e81e8f-7396-46a0-f1d9-960b008b5fe3"
      },
      "execution_count": null,
      "outputs": [
        {
          "output_type": "execute_result",
          "data": {
            "text/plain": [
              "[2, 4, 6, 8, 10]"
            ]
          },
          "metadata": {},
          "execution_count": 54
        }
      ]
    },
    {
      "cell_type": "code",
      "source": [
        "#3. Clasificar números en postivos y negativos\n",
        "numeros=[-1,2,-3,4,-5,6,-7,8,-9,10]\n",
        "clasificacion=[(\"positivo\",x) if x>=0 else (\"negativo\",x) for x in numeros]\n",
        "clasificacion"
      ],
      "metadata": {
        "colab": {
          "base_uri": "https://localhost:8080/"
        },
        "id": "fY27tRXaHFeH",
        "outputId": "bd3e999f-32cc-4770-bf53-a5b048b0f6f5"
      },
      "execution_count": null,
      "outputs": [
        {
          "output_type": "execute_result",
          "data": {
            "text/plain": [
              "[('negativo', -1),\n",
              " ('positivo', 2),\n",
              " ('negativo', -3),\n",
              " ('positivo', 4),\n",
              " ('negativo', -5),\n",
              " ('positivo', 6),\n",
              " ('negativo', -7),\n",
              " ('positivo', 8),\n",
              " ('negativo', -9),\n",
              " ('positivo', 10)]"
            ]
          },
          "metadata": {},
          "execution_count": 60
        }
      ]
    }
  ]
}