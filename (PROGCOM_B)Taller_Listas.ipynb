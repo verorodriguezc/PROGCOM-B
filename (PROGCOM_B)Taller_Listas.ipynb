{
  "nbformat": 4,
  "nbformat_minor": 0,
  "metadata": {
    "colab": {
      "provenance": []
    },
    "kernelspec": {
      "name": "python3",
      "display_name": "Python 3"
    },
    "language_info": {
      "name": "python"
    }
  },
  "cells": [
    {
      "cell_type": "markdown",
      "source": [
        "##TALLER LISTAS"
      ],
      "metadata": {
        "id": "Z4_juBw5Jkcr"
      }
    },
    {
      "cell_type": "markdown",
      "source": [
        "1. Crear una lista con los cuadrados de los números del 1 al 10."
      ],
      "metadata": {
        "id": "qD-72EN3Jope"
      }
    },
    {
      "cell_type": "code",
      "source": [
        "Ncuadrados=[i ** 2 for i in range(1,11)]\n",
        "Ncuadrados"
      ],
      "metadata": {
        "colab": {
          "base_uri": "https://localhost:8080/"
        },
        "id": "X60x1IqWLQKD",
        "outputId": "b3f5e82f-5b1d-466b-8e0f-153e307b471c"
      },
      "execution_count": null,
      "outputs": [
        {
          "output_type": "execute_result",
          "data": {
            "text/plain": [
              "[1, 4, 9, 16, 25, 36, 49, 64, 81, 100]"
            ]
          },
          "metadata": {},
          "execution_count": 20
        }
      ]
    },
    {
      "cell_type": "markdown",
      "source": [
        "2. Obtener una lista con los números pares del 0 al 20."
      ],
      "metadata": {
        "id": "QbVXH6KeJuUC"
      }
    },
    {
      "cell_type": "code",
      "source": [
        "Npares=[num for num in range(1,21) if num%2 ==0]\n",
        "Npares"
      ],
      "metadata": {
        "colab": {
          "base_uri": "https://localhost:8080/"
        },
        "id": "D-JvUEvOLuAf",
        "outputId": "477675a8-31c9-4016-a620-72e2ec145b30"
      },
      "execution_count": null,
      "outputs": [
        {
          "output_type": "execute_result",
          "data": {
            "text/plain": [
              "[2, 4, 6, 8, 10, 12, 14, 16, 18, 20]"
            ]
          },
          "metadata": {},
          "execution_count": 19
        }
      ]
    },
    {
      "cell_type": "markdown",
      "source": [
        "3. Crear una lista con el doble de cada número del 1 al 5."
      ],
      "metadata": {
        "id": "r0oqJ81SJ0_L"
      }
    },
    {
      "cell_type": "code",
      "source": [
        "Dobles=[n * 2 for n in range(1,6)]\n",
        "Dobles"
      ],
      "metadata": {
        "colab": {
          "base_uri": "https://localhost:8080/"
        },
        "id": "bTp9GwklL-HN",
        "outputId": "0be5ad69-b624-4be9-befa-6fdce5726df1"
      },
      "execution_count": null,
      "outputs": [
        {
          "output_type": "execute_result",
          "data": {
            "text/plain": [
              "[2, 4, 6, 8, 10]"
            ]
          },
          "metadata": {},
          "execution_count": 21
        }
      ]
    },
    {
      "cell_type": "markdown",
      "source": [
        "4. De la palabra \"programacion\", obtener solo las vocales."
      ],
      "metadata": {
        "id": "pPIjJBTAKBoa"
      }
    },
    {
      "cell_type": "code",
      "source": [
        "word=\"programacion\"\n",
        "v=[w for w in word if w in \"a-e-i-o-u\"]\n",
        "v"
      ],
      "metadata": {
        "colab": {
          "base_uri": "https://localhost:8080/"
        },
        "id": "RurlWNgyMKEQ",
        "outputId": "4845b09f-e4ee-488f-b65b-426e567eaa28"
      },
      "execution_count": null,
      "outputs": [
        {
          "output_type": "execute_result",
          "data": {
            "text/plain": [
              "['o', 'a', 'a', 'i', 'o']"
            ]
          },
          "metadata": {},
          "execution_count": 22
        }
      ]
    },
    {
      "cell_type": "markdown",
      "source": [
        "5. Dada la lista [\"python\", \"java\", \"c++\"], obtener otra lista con las palabras en mayúsculas."
      ],
      "metadata": {
        "id": "jlfdkHPiKG8I"
      }
    },
    {
      "cell_type": "code",
      "source": [
        "Programas=[\"python\", \"java\", \"c++\"]\n",
        "MAYÚSCULA=[pg.upper() for pg in Programas]\n",
        "MAYÚSCULA"
      ],
      "metadata": {
        "colab": {
          "base_uri": "https://localhost:8080/"
        },
        "id": "3THPkISWMeD2",
        "outputId": "c84c7bf6-dc75-4de6-8b06-fc2e3b12e47a"
      },
      "execution_count": null,
      "outputs": [
        {
          "output_type": "execute_result",
          "data": {
            "text/plain": [
              "['PYTHON', 'JAVA', 'C++']"
            ]
          },
          "metadata": {},
          "execution_count": 23
        }
      ]
    },
    {
      "cell_type": "markdown",
      "source": [
        "6. Crear una lista con \"par\" o \"impar\" para los números del 1 al 10."
      ],
      "metadata": {
        "id": "5A4ZEPP2KmMj"
      }
    },
    {
      "cell_type": "code",
      "source": [
        "Lista=[1,2,3,4,5,6,7,8,9,10]\n",
        "paridad=[(x, \"es par\") if x%2==0 else (x, \"es impar\") for x in Lista]\n",
        "paridad"
      ],
      "metadata": {
        "colab": {
          "base_uri": "https://localhost:8080/"
        },
        "id": "gkfo_sHZMpp3",
        "outputId": "59cdea25-9f3a-4797-ff21-5296f386c1ad"
      },
      "execution_count": null,
      "outputs": [
        {
          "output_type": "execute_result",
          "data": {
            "text/plain": [
              "[(1, 'es impar'),\n",
              " (2, 'es par'),\n",
              " (3, 'es impar'),\n",
              " (4, 'es par'),\n",
              " (5, 'es impar'),\n",
              " (6, 'es par'),\n",
              " (7, 'es impar'),\n",
              " (8, 'es par'),\n",
              " (9, 'es impar'),\n",
              " (10, 'es par')]"
            ]
          },
          "metadata": {},
          "execution_count": 24
        }
      ]
    },
    {
      "cell_type": "markdown",
      "source": [
        "7. Generar una lista de tuplas con el número y su cuadrado del 1 al 5."
      ],
      "metadata": {
        "id": "3NfWJ2sjKyLO"
      }
    },
    {
      "cell_type": "code",
      "source": [
        "Lista=[1,2,3,4,5]\n",
        "Nalcuadrado=[(x, \"su cuadrado es\" ,x**2 ) for x in Lista]\n",
        "Nalcuadrado"
      ],
      "metadata": {
        "colab": {
          "base_uri": "https://localhost:8080/"
        },
        "id": "Ra2s3mqYM_5e",
        "outputId": "0e8e9d9b-fc22-4055-add7-5b07f6728eab"
      },
      "execution_count": null,
      "outputs": [
        {
          "output_type": "execute_result",
          "data": {
            "text/plain": [
              "[(1, 'su cuadrado es', 1),\n",
              " (2, 'su cuadrado es', 4),\n",
              " (3, 'su cuadrado es', 9),\n",
              " (4, 'su cuadrado es', 16),\n",
              " (5, 'su cuadrado es', 25)]"
            ]
          },
          "metadata": {},
          "execution_count": 25
        }
      ]
    },
    {
      "cell_type": "markdown",
      "source": [
        "8. Crear una lista con todas las combinaciones de letras en [\"a\",\"b\"] y números en [1,2,3]."
      ],
      "metadata": {
        "id": "u4F8j6s6K6jb"
      }
    },
    {
      "cell_type": "code",
      "source": [
        "Letras=[\"a\",\"b\"]\n",
        "numeros=[1,2,3]\n",
        "Combinaciones=[(lt,Numero) for lt in Letras for Numero in numeros]\n",
        "Combinaciones"
      ],
      "metadata": {
        "colab": {
          "base_uri": "https://localhost:8080/"
        },
        "id": "2DhEywX_NRLm",
        "outputId": "4ca1cd8b-ad32-4bdf-ec54-d9f3a4e5481d"
      },
      "execution_count": null,
      "outputs": [
        {
          "output_type": "execute_result",
          "data": {
            "text/plain": [
              "[('a', 1), ('a', 2), ('a', 3), ('b', 1), ('b', 2), ('b', 3)]"
            ]
          },
          "metadata": {},
          "execution_count": 26
        }
      ]
    },
    {
      "cell_type": "markdown",
      "source": [
        "9. De la lista [\"sol\", \"estrella\", \"mar\", \"planeta\"], obtener solo las palabras con más de 4 letras."
      ],
      "metadata": {
        "id": "sZvAxG-pLB_9"
      }
    },
    {
      "cell_type": "code",
      "source": [
        "palabras=[\"sol\", \"estrella\", \"mar\", \"planeta\"]\n",
        "x=[p for p in palabras if (len(p)>4)]\n",
        "x"
      ],
      "metadata": {
        "colab": {
          "base_uri": "https://localhost:8080/"
        },
        "id": "OQ6X7FiaNtym",
        "outputId": "98d5a350-db83-46cc-ec07-e6ec55759c55"
      },
      "execution_count": null,
      "outputs": [
        {
          "output_type": "execute_result",
          "data": {
            "text/plain": [
              "['estrella', 'planeta']"
            ]
          },
          "metadata": {},
          "execution_count": 27
        }
      ]
    },
    {
      "cell_type": "markdown",
      "source": [
        "10. Clasificar la temperatura de una lista. Si la temperatura es menor a 26, el clima es \"frío\". Si está entre 26 a 29, es \"templado\". Si es mayor a 29, el clima es \"caliente\""
      ],
      "metadata": {
        "id": "ZDDKuGXdLIfu"
      }
    },
    {
      "cell_type": "code",
      "execution_count": null,
      "metadata": {
        "colab": {
          "base_uri": "https://localhost:8080/"
        },
        "id": "6LsQc63aJdX8",
        "outputId": "16cad25d-10e1-4ebf-ff88-3a5c36c1df99"
      },
      "outputs": [
        {
          "output_type": "execute_result",
          "data": {
            "text/plain": [
              "[(-10, 'Frío'),\n",
              " (-9, 'Frío'),\n",
              " (-8, 'Frío'),\n",
              " (-7, 'Frío'),\n",
              " (-6, 'Frío'),\n",
              " (-5, 'Frío'),\n",
              " (-4, 'Frío'),\n",
              " (-3, 'Frío'),\n",
              " (-2, 'Frío'),\n",
              " (-1, 'Frío'),\n",
              " (0, 'Frío'),\n",
              " (1, 'Frío'),\n",
              " (2, 'Frío'),\n",
              " (3, 'Frío'),\n",
              " (4, 'Frío'),\n",
              " (5, 'Frío'),\n",
              " (6, 'Frío'),\n",
              " (7, 'Frío'),\n",
              " (8, 'Frío'),\n",
              " (9, 'Frío'),\n",
              " (10, 'Frío'),\n",
              " (11, 'Frío'),\n",
              " (12, 'Frío'),\n",
              " (13, 'Frío'),\n",
              " (14, 'Frío'),\n",
              " (15, 'Frío'),\n",
              " (16, 'Frío'),\n",
              " (17, 'Frío'),\n",
              " (18, 'Frío'),\n",
              " (19, 'Frío'),\n",
              " (20, 'Frío'),\n",
              " (21, 'Frío'),\n",
              " (22, 'Frío'),\n",
              " (23, 'Frío'),\n",
              " (24, 'Frío'),\n",
              " (25, 'Frío'),\n",
              " (26, 'Templado'),\n",
              " (27, 'Templado'),\n",
              " (28, 'Templado'),\n",
              " (29, 'Templado'),\n",
              " (30, 'Caliente'),\n",
              " (31, 'Caliente'),\n",
              " (32, 'Caliente'),\n",
              " (33, 'Caliente'),\n",
              " (34, 'Caliente'),\n",
              " (35, 'Caliente'),\n",
              " (36, 'Caliente'),\n",
              " (37, 'Caliente'),\n",
              " (38, 'Caliente'),\n",
              " (39, 'Caliente')]"
            ]
          },
          "metadata": {},
          "execution_count": 28
        }
      ],
      "source": [
        "n=list(range(-10,40))\n",
        "temperatura=[(x, \"Frío\") if x<26 else (x, \"Templado\") if x>=26 and x<=29 else (x, \"Caliente\") for x in n]\n",
        "temperatura"
      ]
    }
  ]
}