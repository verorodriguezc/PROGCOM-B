{
  "nbformat": 4,
  "nbformat_minor": 0,
  "metadata": {
    "colab": {
      "provenance": []
    },
    "kernelspec": {
      "name": "python3",
      "display_name": "Python 3"
    },
    "language_info": {
      "name": "python"
    }
  },
  "cells": [
    {
      "cell_type": "markdown",
      "source": [
        "#Prueba diagnóstica"
      ],
      "metadata": {
        "id": "L3DjRPPaoAct"
      }
    },
    {
      "cell_type": "markdown",
      "source": [
        "##Ejercicios de selección\n"
      ],
      "metadata": {
        "id": "4ARFbFFpoWBL"
      }
    },
    {
      "cell_type": "markdown",
      "source": [
        "1.\tEscribe un programa que reciba un número e indique si es positivo."
      ],
      "metadata": {
        "id": "lHx4mf0wpuww"
      }
    },
    {
      "cell_type": "code",
      "source": [
        "num= int(input(\"Ingrese un numero :\"))"
      ],
      "metadata": {
        "colab": {
          "base_uri": "https://localhost:8080/"
        },
        "id": "8vzEAINNqBDf",
        "outputId": "fb6f4345-ac25-46db-c7bb-233c84e82d59"
      },
      "execution_count": 13,
      "outputs": [
        {
          "name": "stdout",
          "output_type": "stream",
          "text": [
            "Ingrese un numero :-2\n"
          ]
        }
      ]
    },
    {
      "cell_type": "code",
      "execution_count": 14,
      "metadata": {
        "colab": {
          "base_uri": "https://localhost:8080/"
        },
        "id": "d5AZmNTVnbXq",
        "outputId": "7466b06e-477d-4d72-a904-fa25934815de"
      },
      "outputs": [
        {
          "output_type": "stream",
          "name": "stdout",
          "text": [
            "El numero es negativo. \n"
          ]
        }
      ],
      "source": [
        "if num>0:\n",
        "  print(\"El numero es positivo.\")\n",
        "else: print( \"El numero es negativo. \")"
      ]
    },
    {
      "cell_type": "markdown",
      "source": [
        "2\tEscribe un programa que reciba una edad y determine si la persona es mayor de edad."
      ],
      "metadata": {
        "id": "c04cBExstNdP"
      }
    },
    {
      "cell_type": "code",
      "source": [
        "edad= int(input(\" Ingrese su edad \" ))"
      ],
      "metadata": {
        "colab": {
          "base_uri": "https://localhost:8080/"
        },
        "id": "M6CQYUsItK7X",
        "outputId": "8ec9da70-e2af-4989-d635-6d1db21a7aad"
      },
      "execution_count": 18,
      "outputs": [
        {
          "name": "stdout",
          "output_type": "stream",
          "text": [
            " Ingrese su edad 23\n"
          ]
        }
      ]
    },
    {
      "cell_type": "code",
      "source": [
        "if edad>18:\n",
        "   print(\"es mayor de edad\")\n",
        "else: print( \"es menor de edad\")"
      ],
      "metadata": {
        "colab": {
          "base_uri": "https://localhost:8080/"
        },
        "id": "7CSwlIqPtiAu",
        "outputId": "dbe38f57-c575-4900-d800-bf95d33a427f"
      },
      "execution_count": 19,
      "outputs": [
        {
          "output_type": "stream",
          "name": "stdout",
          "text": [
            "es mayor de edad\n"
          ]
        }
      ]
    },
    {
      "cell_type": "markdown",
      "source": [
        "3\tEscribe un programa que reciba dos números e imprima el mayor."
      ],
      "metadata": {
        "id": "lKN0NAFYt58V"
      }
    },
    {
      "cell_type": "code",
      "source": [
        "num1= int(input( \"Ingrese numero 1: \"))\n",
        "num2= int( input( \"Ingrese numero 2: \"))"
      ],
      "metadata": {
        "colab": {
          "base_uri": "https://localhost:8080/"
        },
        "id": "9MRpNRivt9st",
        "outputId": "cdfe5498-c65a-4037-e051-397dcccfedfb"
      },
      "execution_count": 23,
      "outputs": [
        {
          "name": "stdout",
          "output_type": "stream",
          "text": [
            "Ingrese numero 1: 8\n",
            "Ingrese numero 2: 3\n"
          ]
        }
      ]
    },
    {
      "cell_type": "code",
      "source": [
        "if num1>num2:\n",
        "  print(\"El numero 1 es mayor\")\n",
        "else: print(\"el numero 2 es mayor \")"
      ],
      "metadata": {
        "colab": {
          "base_uri": "https://localhost:8080/"
        },
        "id": "fut8WOzUuTy8",
        "outputId": "7fdfb0bd-75fe-4c0b-e4d4-fdd1ac8b1b29"
      },
      "execution_count": 24,
      "outputs": [
        {
          "output_type": "stream",
          "name": "stdout",
          "text": [
            "El numero 1 es mayor\n"
          ]
        }
      ]
    },
    {
      "cell_type": "markdown",
      "source": [
        "4\tEscribe un programa que reciba una calificación (0-100) e indique si es Aprobado (>=60) o Reprobado.\n"
      ],
      "metadata": {
        "id": "ah0Y4AmCu7BT"
      }
    },
    {
      "cell_type": "code",
      "source": [
        " cal=int(input(\"Ingrese calificación\"))"
      ],
      "metadata": {
        "colab": {
          "base_uri": "https://localhost:8080/"
        },
        "id": "4pqqatz7vAji",
        "outputId": "600cbdfa-94fb-43f1-8f14-fa4b1b1a4517"
      },
      "execution_count": 33,
      "outputs": [
        {
          "name": "stdout",
          "output_type": "stream",
          "text": [
            "Ingrese calificación55\n"
          ]
        }
      ]
    },
    {
      "cell_type": "code",
      "source": [
        "if cal>=60:\n",
        "  print( \"Aprobado\")\n",
        "else: print ( \"Reprobado \")"
      ],
      "metadata": {
        "colab": {
          "base_uri": "https://localhost:8080/"
        },
        "id": "tHmWmxRzvPBS",
        "outputId": "b6c4b345-214c-43ff-961f-d1c503d25aa0"
      },
      "execution_count": 34,
      "outputs": [
        {
          "output_type": "stream",
          "name": "stdout",
          "text": [
            "Reprobado \n"
          ]
        }
      ]
    },
    {
      "cell_type": "markdown",
      "source": [
        "5\tEscribe un programa que determine si un número es par o impar."
      ],
      "metadata": {
        "id": "9Z6fUCQlvzWA"
      }
    },
    {
      "cell_type": "code",
      "source": [
        "num=int(input( \"Ingrese un número entero: \"))"
      ],
      "metadata": {
        "colab": {
          "base_uri": "https://localhost:8080/"
        },
        "id": "SclQ1R5Ov2SZ",
        "outputId": "bf157c74-6fcc-4b20-825b-26c6e57df99a"
      },
      "execution_count": 39,
      "outputs": [
        {
          "name": "stdout",
          "output_type": "stream",
          "text": [
            "Ingrese un número entero: 4\n"
          ]
        }
      ]
    },
    {
      "cell_type": "code",
      "source": [
        "if (num%2==0):\n",
        "  print(\"Numero es par \")\n",
        "else: print(f\"Número es impar\")"
      ],
      "metadata": {
        "colab": {
          "base_uri": "https://localhost:8080/"
        },
        "id": "DK-w1OIRwFyX",
        "outputId": "87ba9665-ca6f-4df9-d547-44481cd8df3d"
      },
      "execution_count": 40,
      "outputs": [
        {
          "output_type": "stream",
          "name": "stdout",
          "text": [
            "Numero es par \n"
          ]
        }
      ]
    },
    {
      "cell_type": "markdown",
      "source": [
        "6\tEscribe un programa que reciba tres números e imprima el mayor de los tres."
      ],
      "metadata": {
        "id": "6_JO25gowja3"
      }
    },
    {
      "cell_type": "code",
      "source": [
        "num1=int(input(\"Ingrese el número 1: \"))\n",
        "num2=int(input(\"Ingrese el número 2: \"))\n",
        "num3=int(input(\"Ingrese el número 3: \"))"
      ],
      "metadata": {
        "colab": {
          "base_uri": "https://localhost:8080/"
        },
        "id": "PHAu1BnEwnOm",
        "outputId": "58980900-a5d6-4feb-8451-16ff72de7c2e"
      },
      "execution_count": 41,
      "outputs": [
        {
          "name": "stdout",
          "output_type": "stream",
          "text": [
            "Ingrese el número 1: 4\n",
            "Ingrese el número 2: 5\n",
            "Ingrese el número 3: 8\n"
          ]
        }
      ]
    },
    {
      "cell_type": "code",
      "source": [
        "if num1==num2 and num1==num3:\n",
        " print(\"Todos los números son iguales. \")\n",
        "elif num1==num2 and num1>num3:\n",
        " print(\"Los números 1 y 2 son mayores\")\n",
        "elif num1==num2 and num1<num3:\n",
        " print(\"El número 3 es el mayore\")\n",
        "elif num1==num3 and num1>num2:\n",
        " print(\"Los números 1 y 3 son mayores\")\n",
        "elif num1==num3 and num1>num2:\n",
        " print(\"El número 2 es el mayor\")\n",
        "elif num2==num3 and num2>num:\n",
        " print(\"Los números 2 y 3 son mayores\")\n",
        "elif num2==num3 and num2<num1:\n",
        " print(\"El número 1 es el mayor\")\n",
        "elif num1>num2 and num1>num3:\n",
        " print(\"El númeroo 1 es el mayor\")\n",
        "elif num2>num1 and num2>num3:\n",
        " print(\"El número 2 es el mayor\")\n",
        "else: print(\"El número 3 es el mayor\")"
      ],
      "metadata": {
        "colab": {
          "base_uri": "https://localhost:8080/"
        },
        "id": "HlvUZ3_Xw043",
        "outputId": "1a8329b6-f642-4db6-d926-62bc64193e13"
      },
      "execution_count": 42,
      "outputs": [
        {
          "output_type": "stream",
          "name": "stdout",
          "text": [
            "El número 3 es el mayor\n"
          ]
        }
      ]
    },
    {
      "cell_type": "markdown",
      "source": [
        "7\tEscribe un programa que reciba un año e indique si es bisiesto."
      ],
      "metadata": {
        "id": "q03bVheQw5U-"
      }
    },
    {
      "cell_type": "code",
      "source": [
        "año= int(input(\"Ingrese el año: \"))\n",
        "dia= int(input(f\" cuantos dias tuvo el año:  {año}\"))\n",
        "if dia==366:\n",
        " print (\"El año fue bisiesto\")\n",
        "elif dia==365:\n",
        " print ( \"El año no fue bisiesto\")\n",
        "else : print(\"el número de días no corresponde\")"
      ],
      "metadata": {
        "colab": {
          "base_uri": "https://localhost:8080/"
        },
        "id": "jIaHThqQw-7d",
        "outputId": "adac6b53-ee7c-4b2b-e4ff-f9b94c21ccfc"
      },
      "execution_count": 51,
      "outputs": [
        {
          "output_type": "stream",
          "name": "stdout",
          "text": [
            "Ingrese el año: 2025\n",
            " cuantos dias tuvo el año 2025365\n",
            "El año no fue bisiesto\n"
          ]
        }
      ]
    },
    {
      "cell_type": "markdown",
      "source": [
        "8\tEscribe un programa que reciba una contraseña e indique si cumple con las siguientes reglas: más de 8 caracteres, contiene al menos un número y una letra mayúscula."
      ],
      "metadata": {
        "id": "LkTwhYIQy1Uw"
      }
    },
    {
      "cell_type": "code",
      "source": [
        "cont= int(input( \"Ingrese Contraseña \"))"
      ],
      "metadata": {
        "id": "EAs2ITh32fSf"
      },
      "execution_count": null,
      "outputs": []
    },
    {
      "cell_type": "markdown",
      "source": [
        "9\tEscribe un programa que lea un número e imprima “Fizz” si es divisible por 3, “Buzz” si es divisible por 5 y “FizzBuzz” si es divisible por ambos."
      ],
      "metadata": {
        "id": "P65SzIDS1kCa"
      }
    },
    {
      "cell_type": "code",
      "source": [
        "numero = int(input(\"Escribe un número: \"))\n",
        "\n",
        "# Verificar las condiciones de FizzBuzz\n",
        "if numero % 3 == 0 and numero % 5 == 0:\n",
        "    print(\"FizzBuzz\")\n",
        "elif numero % 3 == 0:\n",
        "    print(\"Fizz\")\n",
        "elif numero % 5 == 0:\n",
        "    print(\"Buzz\")\n",
        "else:\n",
        "    print(\"El número no es divisible por 3 ni por 5.\")"
      ],
      "metadata": {
        "colab": {
          "base_uri": "https://localhost:8080/"
        },
        "id": "6BW8TQh81oHR",
        "outputId": "7893b15d-b2d7-434f-809d-62644790ccd9"
      },
      "execution_count": 52,
      "outputs": [
        {
          "output_type": "stream",
          "name": "stdout",
          "text": [
            "Escribe un número: 3\n",
            "Fizz\n"
          ]
        }
      ]
    },
    {
      "cell_type": "markdown",
      "source": [],
      "metadata": {
        "id": "YPNls51UtKeZ"
      }
    }
  ]
}