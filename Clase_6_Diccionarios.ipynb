{
  "nbformat": 4,
  "nbformat_minor": 0,
  "metadata": {
    "colab": {
      "provenance": []
    },
    "kernelspec": {
      "name": "python3",
      "display_name": "Python 3"
    },
    "language_info": {
      "name": "python"
    }
  },
  "cells": [
    {
      "cell_type": "markdown",
      "source": [
        "##Dicccionarios\n",
        "Estructura de datos que almacena valores\n",
        "\n",
        "Sintaxis\n",
        "\n",
        "\n",
        "```\n",
        "nombre_diccionario={\"llave\":valor}\n",
        "```\n",
        "* Llave: **SIEMPRE** tiene que ser alfanumérica\n",
        "* Valor: Cualquier tipo de dato\n"
      ],
      "metadata": {
        "id": "-H6sno1Han6Q"
      }
    },
    {
      "cell_type": "code",
      "execution_count": null,
      "metadata": {
        "id": "bY4cf3dJag-R"
      },
      "outputs": [],
      "source": [
        "justicia={\"superhéroes\":[\"Batman\", \"Superman\", \"Wonderwomen\"],\"identidades\":[\"Bruce Wayne\", \"Clark Kent\", \"Diana Prince\"]}"
      ]
    },
    {
      "cell_type": "code",
      "source": [
        "type(justicia)"
      ],
      "metadata": {
        "id": "6BB5bxGgczls",
        "colab": {
          "base_uri": "https://localhost:8080/"
        },
        "outputId": "9bcf00c2-86cf-47c9-b078-cb338460ee48"
      },
      "execution_count": null,
      "outputs": [
        {
          "output_type": "execute_result",
          "data": {
            "text/plain": [
              "dict"
            ]
          },
          "metadata": {},
          "execution_count": 6
        }
      ]
    },
    {
      "cell_type": "code",
      "source": [
        "justicia"
      ],
      "metadata": {
        "colab": {
          "base_uri": "https://localhost:8080/"
        },
        "id": "rRR2BMfydPir",
        "outputId": "d1aca0d9-db2f-437a-a8f5-0877907f5278"
      },
      "execution_count": null,
      "outputs": [
        {
          "output_type": "execute_result",
          "data": {
            "text/plain": [
              "{'superhéroes': ['Batman', 'Superman', 'Wonderwomen'],\n",
              " 'identidades': ['Bruce Wayne', 'Clark Kent', 'Diana Prince']}"
            ]
          },
          "metadata": {},
          "execution_count": 7
        }
      ]
    },
    {
      "cell_type": "markdown",
      "source": [
        "Los diccionarios **NO** tienen indexación"
      ],
      "metadata": {
        "id": "OCxhZTr5dVXi"
      }
    },
    {
      "cell_type": "code",
      "source": [
        "justicia{0}"
      ],
      "metadata": {
        "colab": {
          "base_uri": "https://localhost:8080/",
          "height": 127
        },
        "id": "e-pkKvAOdent",
        "outputId": "688414c3-28c5-4f1c-da9a-5bc834b41e83"
      },
      "execution_count": null,
      "outputs": [
        {
          "output_type": "error",
          "ename": "SyntaxError",
          "evalue": "invalid syntax (ipython-input-2310992461.py, line 1)",
          "traceback": [
            "\u001b[0;36m  File \u001b[0;32m\"/tmp/ipython-input-2310992461.py\"\u001b[0;36m, line \u001b[0;32m1\u001b[0m\n\u001b[0;31m    justicia{0}\u001b[0m\n\u001b[0m            ^\u001b[0m\n\u001b[0;31mSyntaxError\u001b[0m\u001b[0;31m:\u001b[0m invalid syntax\n"
          ]
        }
      ]
    },
    {
      "cell_type": "code",
      "source": [
        "justicia[\"superhéroes\"]"
      ],
      "metadata": {
        "colab": {
          "base_uri": "https://localhost:8080/"
        },
        "id": "lOngDoNHdlBN",
        "outputId": "42edff1d-bbba-4c6e-f7c2-40c79753add5"
      },
      "execution_count": null,
      "outputs": [
        {
          "output_type": "execute_result",
          "data": {
            "text/plain": [
              "['Batman', 'Superman', 'Wonderwomen']"
            ]
          },
          "metadata": {},
          "execution_count": 9
        }
      ]
    },
    {
      "cell_type": "code",
      "source": [
        "justicia[\"identidades\"][2]"
      ],
      "metadata": {
        "colab": {
          "base_uri": "https://localhost:8080/",
          "height": 36
        },
        "id": "GW-YPFOrd_2t",
        "outputId": "90bbcd79-fffb-44e5-df67-f7d5b79d4135"
      },
      "execution_count": null,
      "outputs": [
        {
          "output_type": "execute_result",
          "data": {
            "text/plain": [
              "'Diana Prince'"
            ],
            "application/vnd.google.colaboratory.intrinsic+json": {
              "type": "string"
            }
          },
          "metadata": {},
          "execution_count": 10
        }
      ]
    },
    {
      "cell_type": "markdown",
      "source": [
        "#Funciones asociadas a los diccionarios"
      ],
      "metadata": {
        "id": "x4pbll5SenHR"
      }
    },
    {
      "cell_type": "markdown",
      "source": [
        "Values:\n",
        "\n",
        "Devuelve todos los valores del diccionario."
      ],
      "metadata": {
        "id": "Qf15_peVfdXt"
      }
    },
    {
      "cell_type": "code",
      "source": [
        "print(justicia.values())\n"
      ],
      "metadata": {
        "colab": {
          "base_uri": "https://localhost:8080/"
        },
        "id": "TSi8Aa7NfnKl",
        "outputId": "33b3c1fb-27b8-44af-9029-13748fd7bc44"
      },
      "execution_count": null,
      "outputs": [
        {
          "output_type": "stream",
          "name": "stdout",
          "text": [
            "dict_values([['Batman', 'Superman', 'Wonderwomen'], ['Bruce Wayne', 'Clark Kent', 'Diana Prince']])\n"
          ]
        }
      ]
    },
    {
      "cell_type": "markdown",
      "source": [
        "Update:\n",
        "\n",
        "Permite agregar o actualizar elementos en el diccionario.\n",
        "\n"
      ],
      "metadata": {
        "id": "tWdf6hFDfwOi"
      }
    },
    {
      "cell_type": "code",
      "source": [
        "justicia.update({\"villanos\": [\"Joker\", \"Lex Luthor\"]})\n",
        "print(justicia)\n"
      ],
      "metadata": {
        "colab": {
          "base_uri": "https://localhost:8080/"
        },
        "id": "9VwWotwRf7rs",
        "outputId": "6863366c-3aa9-4b70-ea5d-8fa6f4f05d87"
      },
      "execution_count": null,
      "outputs": [
        {
          "output_type": "stream",
          "name": "stdout",
          "text": [
            "{'superhéroes': ['Batman', 'Superman', 'Wonderwomen'], 'identidades': ['Bruce Wayne', 'Clark Kent', 'Diana Prince'], 'villanos': ['Joker', 'Lex Luthor']}\n"
          ]
        }
      ]
    },
    {
      "cell_type": "markdown",
      "source": [
        "Setdefault:\n",
        "\n",
        "Si la clave existe, devuelve su valor.\n",
        "Si no existe, la crea con el valor dado.\n"
      ],
      "metadata": {
        "id": "we_Uu8hMgCsc"
      }
    },
    {
      "cell_type": "code",
      "source": [
        "print(justicia.setdefault(\"superhéroes\", []))\n",
        "print(justicia.setdefault(\"base\", \"Metrópolis\"))\n",
        "print(justicia)\n"
      ],
      "metadata": {
        "colab": {
          "base_uri": "https://localhost:8080/"
        },
        "id": "ZLdnvH4lgOh_",
        "outputId": "06be5091-a61a-4540-db84-898ca632deab"
      },
      "execution_count": null,
      "outputs": [
        {
          "output_type": "stream",
          "name": "stdout",
          "text": [
            "['Batman', 'Superman', 'Wonderwomen']\n",
            "Metrópolis\n",
            "{'superhéroes': ['Batman', 'Superman', 'Wonderwomen'], 'identidades': ['Bruce Wayne', 'Clark Kent', 'Diana Prince'], 'villanos': ['Joker', 'Lex Luthor'], 'base': 'Metrópolis'}\n"
          ]
        }
      ]
    },
    {
      "cell_type": "markdown",
      "source": [
        "Popitem:\n",
        "\n",
        "Elimina y devuelve el último par (clave, valor) insertado."
      ],
      "metadata": {
        "id": "XzYa_3DkgeFR"
      }
    },
    {
      "cell_type": "code",
      "source": [
        "print(justicia.popitem())\n",
        "print(justicia)\n"
      ],
      "metadata": {
        "colab": {
          "base_uri": "https://localhost:8080/"
        },
        "id": "eE719FvJgs9e",
        "outputId": "d903a0c3-6f9b-40b3-8dad-450be469180b"
      },
      "execution_count": null,
      "outputs": [
        {
          "output_type": "stream",
          "name": "stdout",
          "text": [
            "('base', 'Metrópolis')\n",
            "{'superhéroes': ['Batman', 'Superman', 'Wonderwomen'], 'identidades': ['Bruce Wayne', 'Clark Kent', 'Diana Prince'], 'villanos': ['Joker', 'Lex Luthor']}\n"
          ]
        }
      ]
    },
    {
      "cell_type": "markdown",
      "source": [
        "Pop\n",
        "\n",
        "Elimina un elemento por su clave y devuelve su valor.\n"
      ],
      "metadata": {
        "id": "w4g1hESMgxlF"
      }
    },
    {
      "cell_type": "code",
      "source": [
        "print(justicia.pop(\"villanos\"))\n",
        "print(justicia)\n"
      ],
      "metadata": {
        "colab": {
          "base_uri": "https://localhost:8080/"
        },
        "id": "0qYpLAUwg6zH",
        "outputId": "2556e395-5130-4600-9b1d-1d46d6c941c9"
      },
      "execution_count": null,
      "outputs": [
        {
          "output_type": "stream",
          "name": "stdout",
          "text": [
            "['Joker', 'Lex Luthor']\n",
            "{'superhéroes': ['Batman', 'Superman', 'Wonderwomen'], 'identidades': ['Bruce Wayne', 'Clark Kent', 'Diana Prince']}\n"
          ]
        }
      ]
    },
    {
      "cell_type": "markdown",
      "source": [
        "Keys\n",
        "\n",
        "Devuelve todas las claves (llaves) del diccionario.\n"
      ],
      "metadata": {
        "id": "yjt0ocThhcNX"
      }
    },
    {
      "cell_type": "code",
      "source": [
        "print(justicia.keys())\n"
      ],
      "metadata": {
        "colab": {
          "base_uri": "https://localhost:8080/"
        },
        "id": "veGoGnlThmwE",
        "outputId": "ebf087e7-0132-4e84-8311-08c6614d8947"
      },
      "execution_count": null,
      "outputs": [
        {
          "output_type": "stream",
          "name": "stdout",
          "text": [
            "dict_keys(['superhéroes', 'identidades'])\n"
          ]
        }
      ]
    },
    {
      "cell_type": "markdown",
      "source": [
        "Items\n",
        "\n",
        "Devuelve pares (clave, valor) en forma de tuplas.\n"
      ],
      "metadata": {
        "id": "R5T-FaKfhroB"
      }
    },
    {
      "cell_type": "code",
      "source": [
        "print(justicia.items())\n"
      ],
      "metadata": {
        "colab": {
          "base_uri": "https://localhost:8080/"
        },
        "id": "OvNlkzV2h00z",
        "outputId": "16f6d7ef-5313-4f0f-bd6c-9842e6ee5113"
      },
      "execution_count": null,
      "outputs": [
        {
          "output_type": "stream",
          "name": "stdout",
          "text": [
            "dict_items([('superhéroes', ['Batman', 'Superman', 'Wonderwomen']), ('identidades', ['Bruce Wayne', 'Clark Kent', 'Diana Prince'])])\n"
          ]
        }
      ]
    },
    {
      "cell_type": "markdown",
      "source": [
        "get\n",
        "\n",
        "Accede al valor de una clave de forma segura (no lanza error si no existe).\n",
        "\n",
        "\n",
        "\n",
        "\n"
      ],
      "metadata": {
        "id": "0ErbwsDoh-dh"
      }
    },
    {
      "cell_type": "code",
      "source": [
        "print(justicia.get(\"superhéroes\"))\n",
        "print(justicia.get(\"villanos\", \"No hay villanos en la Liga de la Justicia\"))\n"
      ],
      "metadata": {
        "id": "2ECz5iO3iQ32",
        "colab": {
          "base_uri": "https://localhost:8080/"
        },
        "outputId": "e2df4a5c-db75-4f56-f508-90f1a070d16c"
      },
      "execution_count": null,
      "outputs": [
        {
          "output_type": "stream",
          "name": "stdout",
          "text": [
            "['Batman', 'Superman', 'Wonderwomen']\n",
            "No hay villanos en la Liga de la Justicia\n"
          ]
        }
      ]
    },
    {
      "cell_type": "markdown",
      "source": [
        "fromkeys\n",
        "\n",
        "Crea un diccionario nuevo con un conjunto de claves y un mismo valor por defecto.\n"
      ],
      "metadata": {
        "id": "ln5kGLY7i8_6"
      }
    },
    {
      "cell_type": "code",
      "source": [
        "claves = [\"Batman\", \"Superman\", \"Wonderwoman\"]\n",
        "liga = dict.fromkeys(claves, \"Miembro de la Liga\")\n",
        "print(liga)\n"
      ],
      "metadata": {
        "id": "sQe3TpIci5tN",
        "colab": {
          "base_uri": "https://localhost:8080/"
        },
        "outputId": "11198a2a-1034-4d4c-9609-3296d6118a48"
      },
      "execution_count": null,
      "outputs": [
        {
          "output_type": "stream",
          "name": "stdout",
          "text": [
            "{'Batman': 'Miembro de la Liga', 'Superman': 'Miembro de la Liga', 'Wonderwoman': 'Miembro de la Liga'}\n"
          ]
        }
      ]
    },
    {
      "cell_type": "markdown",
      "source": [
        "Copy\n",
        "\n",
        "Crea una copia independiente del diccionario."
      ],
      "metadata": {
        "id": "lsVLgA-BjVE8"
      }
    },
    {
      "cell_type": "code",
      "source": [
        "copia = justicia.copy()\n",
        "print(copia)\n"
      ],
      "metadata": {
        "colab": {
          "base_uri": "https://localhost:8080/"
        },
        "id": "wN_qjXWojeNS",
        "outputId": "d5c12e7c-5783-4ca2-b6df-5eca1c3896dd"
      },
      "execution_count": null,
      "outputs": [
        {
          "output_type": "stream",
          "name": "stdout",
          "text": [
            "{'superhéroes': ['Batman', 'Superman', 'Wonderwomen'], 'identidades': ['Bruce Wayne', 'Clark Kent', 'Diana Prince']}\n"
          ]
        }
      ]
    },
    {
      "cell_type": "markdown",
      "source": [
        "Clear\n",
        "\n",
        "Elimina todo el contenido del diccionario."
      ],
      "metadata": {
        "id": "8MLmOve6jnrr"
      }
    },
    {
      "cell_type": "code",
      "source": [
        "justicia.clear()\n",
        "print(justicia)\n"
      ],
      "metadata": {
        "colab": {
          "base_uri": "https://localhost:8080/"
        },
        "id": "xf4HTZ4JjlwI",
        "outputId": "0a529320-5506-4e6d-8a3a-29167ccbbd09"
      },
      "execution_count": null,
      "outputs": [
        {
          "output_type": "stream",
          "name": "stdout",
          "text": [
            "{}\n"
          ]
        }
      ]
    }
  ]
}