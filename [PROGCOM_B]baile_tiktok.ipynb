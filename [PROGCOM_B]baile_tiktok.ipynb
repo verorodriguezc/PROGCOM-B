{
  "nbformat": 4,
  "nbformat_minor": 0,
  "metadata": {
    "colab": {
      "provenance": []
    },
    "kernelspec": {
      "name": "python3",
      "display_name": "Python 3"
    },
    "language_info": {
      "name": "python"
    }
  },
  "cells": [
    {
      "cell_type": "code",
      "execution_count": 4,
      "metadata": {
        "id": "ANqyElHnekwU"
      },
      "outputs": [],
      "source": [
        "def giro (a,b):\n",
        "  for i in range(a):\n",
        "    print(f\"Doy {i} giro hacia la {b}\")"
      ]
    },
    {
      "cell_type": "code",
      "source": [
        "giro(1,\"derecha\")"
      ],
      "metadata": {
        "colab": {
          "base_uri": "https://localhost:8080/"
        },
        "id": "GVfQAp-DfLqD",
        "outputId": "599f600d-397e-4957-b70d-61837a982a6e"
      },
      "execution_count": 5,
      "outputs": [
        {
          "output_type": "stream",
          "name": "stdout",
          "text": [
            "Doy 0 giro hacia la derecha\n"
          ]
        }
      ]
    },
    {
      "cell_type": "code",
      "source": [
        "def alzar_brazo(a,b):\n",
        "  for j in range(b):\n",
        "     for i in range(a):\n",
        "        print(\"Muevo brazo derecho hacía arriba y el izquierdo hacia abajo\")\n",
        "     for i in range(a):\n",
        "         print(\"Muevo brazo derecho hacía abajo y el izquierdo hacia arriba\")\n"
      ],
      "metadata": {
        "id": "wQX3WPonft-K"
      },
      "execution_count": 6,
      "outputs": []
    },
    {
      "cell_type": "code",
      "source": [
        "alzar_brazo (1,2)\n",
        "alzar_brazo (0,1)"
      ],
      "metadata": {
        "colab": {
          "base_uri": "https://localhost:8080/"
        },
        "id": "uV1t-O8ggxkZ",
        "outputId": "53cfa86a-a303-48d9-baac-fe3231117af9"
      },
      "execution_count": 20,
      "outputs": [
        {
          "output_type": "stream",
          "name": "stdout",
          "text": [
            "Muevo brazo derecho hacía arriba y el izquierdo hacia abajo\n",
            "Muevo brazo derecho hacía abajo y el izquierdo hacia arriba\n",
            "Muevo brazo derecho hacía arriba y el izquierdo hacia abajo\n",
            "Muevo brazo derecho hacía abajo y el izquierdo hacia arriba\n"
          ]
        }
      ]
    },
    {
      "cell_type": "code",
      "source": [
        "def aplauso (a,b):\n",
        "  for i in range(a):\n",
        "    print(f\"Doy {i} aplauso hacia la {b}\")"
      ],
      "metadata": {
        "id": "uqgelPvwiIlo"
      },
      "execution_count": 21,
      "outputs": []
    },
    {
      "cell_type": "code",
      "source": [
        "aplauso(1,\"derecha\")"
      ],
      "metadata": {
        "colab": {
          "base_uri": "https://localhost:8080/"
        },
        "id": "qejExiIaiTCv",
        "outputId": "bad9d9bb-c9cb-415c-b029-a8697fb8d675"
      },
      "execution_count": 22,
      "outputs": [
        {
          "output_type": "stream",
          "name": "stdout",
          "text": [
            "Doy 0 aplauso hacia la derecha\n"
          ]
        }
      ]
    },
    {
      "cell_type": "code",
      "source": [
        "def giro (a,b):\n",
        "  for i in range(a):\n",
        "    print(f\"Doy {i} giro hacia la {b}\")"
      ],
      "metadata": {
        "id": "VaDmNDqoib2G"
      },
      "execution_count": null,
      "outputs": []
    },
    {
      "cell_type": "code",
      "source": [
        "giro(1,\"izquierda\")"
      ],
      "metadata": {
        "colab": {
          "base_uri": "https://localhost:8080/"
        },
        "id": "ok48NE9FigPP",
        "outputId": "24b38cc0-1d6b-46e0-fc9d-831f3136dc20"
      },
      "execution_count": 23,
      "outputs": [
        {
          "output_type": "stream",
          "name": "stdout",
          "text": [
            "Doy 0 giro hacia la izquierda\n"
          ]
        }
      ]
    },
    {
      "cell_type": "code",
      "source": [
        "def alzar_brazo(a,b):\n",
        "  for j in range(b):\n",
        "     for i in range(a):\n",
        "        print(\"Muevo brazo derecho hacía arriba y el izquierdo hacia abajo\")\n",
        "     for i in range(a):\n",
        "         print(\"Muevo brazo derecho hacía abajo y el izquierdo hacia arriba\")"
      ],
      "metadata": {
        "id": "ozyjeDxXiljv"
      },
      "execution_count": 25,
      "outputs": []
    },
    {
      "cell_type": "code",
      "source": [
        "alzar_brazo (1,2)\n",
        "alzar_brazo (0,1)"
      ],
      "metadata": {
        "colab": {
          "base_uri": "https://localhost:8080/"
        },
        "id": "zVtlH_xYinYP",
        "outputId": "f45f7c44-906d-47ea-b2b7-4f074f4233fc"
      },
      "execution_count": 26,
      "outputs": [
        {
          "output_type": "stream",
          "name": "stdout",
          "text": [
            "Muevo brazo derecho hacía arriba y el izquierdo hacia abajo\n",
            "Muevo brazo derecho hacía abajo y el izquierdo hacia arriba\n",
            "Muevo brazo derecho hacía arriba y el izquierdo hacia abajo\n",
            "Muevo brazo derecho hacía abajo y el izquierdo hacia arriba\n"
          ]
        }
      ]
    },
    {
      "cell_type": "code",
      "source": [
        "def aplauso (a,b):\n",
        "  for i in range(a):\n",
        "    print(f\"Doy {i} aplauso hacia la {b}\")"
      ],
      "metadata": {
        "id": "zcfQ0pkfiu0P"
      },
      "execution_count": 27,
      "outputs": []
    },
    {
      "cell_type": "code",
      "source": [
        "aplauso(1,\"izquierda\")"
      ],
      "metadata": {
        "colab": {
          "base_uri": "https://localhost:8080/"
        },
        "id": "nEsyHj6diyd_",
        "outputId": "64e8c51f-a498-45fb-ebe6-a5afdaef8983"
      },
      "execution_count": 28,
      "outputs": [
        {
          "output_type": "stream",
          "name": "stdout",
          "text": [
            "Doy 0 aplauso hacia la izquierda\n"
          ]
        }
      ]
    },
    {
      "cell_type": "code",
      "source": [
        "def cruzo(a,b):\n",
        "  for j in range(b):\n",
        "     for i in range(a):\n",
        "        print(\"cruzo las piernas y giro a la izquierda\")\n",
        "     for i in range(a):\n",
        "         print(\"cruzo las piernas y giro a la derecha\")"
      ],
      "metadata": {
        "id": "clJnEFhXi7HX"
      },
      "execution_count": 31,
      "outputs": []
    },
    {
      "cell_type": "code",
      "source": [
        "cruzo (1,1)"
      ],
      "metadata": {
        "colab": {
          "base_uri": "https://localhost:8080/"
        },
        "id": "GYBzkcNyjX-e",
        "outputId": "900c56fb-0c6e-4544-9150-d0aea9bef16c"
      },
      "execution_count": 32,
      "outputs": [
        {
          "output_type": "stream",
          "name": "stdout",
          "text": [
            "cruzo las piernas y giro a la izquierda\n",
            "cruzo las piernas y giro a la derecha\n"
          ]
        }
      ]
    },
    {
      "cell_type": "code",
      "source": [
        "def giro (a,b):\n",
        "  for i in range(a):\n",
        "    print(f\"Doy {i} giro hacia la {b}\")"
      ],
      "metadata": {
        "id": "SKOzdyVQkjYt"
      },
      "execution_count": 34,
      "outputs": []
    },
    {
      "cell_type": "code",
      "source": [
        "giro(1,\"derecha\")"
      ],
      "metadata": {
        "colab": {
          "base_uri": "https://localhost:8080/"
        },
        "id": "_Nk4ehTlkkk1",
        "outputId": "61478b1e-15e0-401e-ff7b-c816b7b93675"
      },
      "execution_count": 35,
      "outputs": [
        {
          "output_type": "stream",
          "name": "stdout",
          "text": [
            "Doy 0 giro hacia la derecha\n"
          ]
        }
      ]
    },
    {
      "cell_type": "code",
      "source": [
        "def chachacha(a,b):\n",
        "  for j in range(b):\n",
        "     for i in range(a):\n",
        "        print(\"estiro brazo derecho, recojo brazo izquierdo mirando hacia abajo y doblo pierna derecha y estiro pierna izquierda \")\n",
        "     for i in range(a):\n",
        "         print(\"estiro brazo izquierdo, recojo brazo derecho mirando hacia abajo y doblo pierna izquierda y estiro pierna derecha \")"
      ],
      "metadata": {
        "id": "o_MDgOeejto2"
      },
      "execution_count": 33,
      "outputs": []
    },
    {
      "cell_type": "code",
      "source": [
        "chachacha(1,2)\n",
        "chachacha(0,1)"
      ],
      "metadata": {
        "colab": {
          "base_uri": "https://localhost:8080/"
        },
        "id": "elqR9VbJki4t",
        "outputId": "5764d67f-e0b7-4baa-95fd-66295726b80d"
      },
      "execution_count": 39,
      "outputs": [
        {
          "output_type": "stream",
          "name": "stdout",
          "text": [
            "estiro brazo derecho, recojo brazo izquierdo mirando hacia abajo y doblo pierna derecha y estiro pierna izquierda \n",
            "estiro brazo izquierdo, recojo brazo derecho mirando hacia abajo y doblo pierna izquierda y estiro pierna derecha \n",
            "estiro brazo derecho, recojo brazo izquierdo mirando hacia abajo y doblo pierna derecha y estiro pierna izquierda \n",
            "estiro brazo izquierdo, recojo brazo derecho mirando hacia abajo y doblo pierna izquierda y estiro pierna derecha \n"
          ]
        }
      ]
    },
    {
      "cell_type": "code",
      "source": [
        "def giro (a,b):\n",
        "  for i in range(a):\n",
        "    print(f\"Doy {i} giro hacia al {b}\")"
      ],
      "metadata": {
        "id": "l4pTAZWik7k1"
      },
      "execution_count": 42,
      "outputs": []
    },
    {
      "cell_type": "code",
      "source": [
        "giro(1,\"frente\")"
      ],
      "metadata": {
        "colab": {
          "base_uri": "https://localhost:8080/"
        },
        "id": "yKA_Hc9flASV",
        "outputId": "678e06bd-aa27-4ed6-9207-d0dd1abee210"
      },
      "execution_count": 43,
      "outputs": [
        {
          "output_type": "stream",
          "name": "stdout",
          "text": [
            "Doy 0 giro hacia al frente\n"
          ]
        }
      ]
    },
    {
      "cell_type": "code",
      "source": [
        "def soldado(a,b):\n",
        "  for j in range(b):\n",
        "     for i in range(a):\n",
        "        print(\"subo brazo derecho, gira muneca y bajo\")\n",
        "     for i in range(a):\n",
        "         print(\"subo brazo izquierdo, gira muneca y bajo\")"
      ],
      "metadata": {
        "id": "RCdF0AaglH6c"
      },
      "execution_count": 45,
      "outputs": []
    },
    {
      "cell_type": "code",
      "source": [
        "soldado(1,1)"
      ],
      "metadata": {
        "colab": {
          "base_uri": "https://localhost:8080/"
        },
        "id": "KAPCj6dNlwiE",
        "outputId": "9aacef19-d92a-4587-d53b-ff7fcf5f691f"
      },
      "execution_count": 46,
      "outputs": [
        {
          "output_type": "stream",
          "name": "stdout",
          "text": [
            "subo brazo derecho, gira muneca y bajo\n",
            "subo brazo izquierdo, gira muneca y bajo\n"
          ]
        }
      ]
    },
    {
      "cell_type": "code",
      "source": [
        "def tambor(a,b):\n",
        "  for j in range(b):\n",
        "     for i in range(a):\n",
        "        print(\"imito moviento de tambor con las dos manos\")\n",
        "     for i in range(a):\n",
        "         print(\"imito moviento de tambor con las dos manos\")"
      ],
      "metadata": {
        "id": "aziPwBGVl4BU"
      },
      "execution_count": 49,
      "outputs": []
    },
    {
      "cell_type": "code",
      "source": [
        "tambor(1,1)"
      ],
      "metadata": {
        "colab": {
          "base_uri": "https://localhost:8080/"
        },
        "id": "Rg91exTAmL28",
        "outputId": "09ea4856-f17e-475c-f16e-b82be140ce1f"
      },
      "execution_count": 50,
      "outputs": [
        {
          "output_type": "stream",
          "name": "stdout",
          "text": [
            "imito moviento de tambor con las dos manos\n",
            "imito moviento de tambor con las dos manos\n"
          ]
        }
      ]
    },
    {
      "cell_type": "code",
      "source": [
        "def party(a,b):\n",
        "  for j in range(b):\n",
        "     for i in range(a):\n",
        "        print(\"tiro la mano derecha hacia arriba y recojo\")\n",
        "     for i in range(a):\n",
        "         print(\"tiro la mano derecha hacia arriba y recojo\")"
      ],
      "metadata": {
        "id": "Fg45KED8mUQk"
      },
      "execution_count": 52,
      "outputs": []
    },
    {
      "cell_type": "code",
      "source": [
        "party(1,1)"
      ],
      "metadata": {
        "colab": {
          "base_uri": "https://localhost:8080/"
        },
        "id": "zuvdFJWamqkE",
        "outputId": "ff69ae12-4fd9-4b13-9754-249839816b7b"
      },
      "execution_count": 53,
      "outputs": [
        {
          "output_type": "stream",
          "name": "stdout",
          "text": [
            "tiro la mano derecha hacia arriba y recojo\n",
            "tiro la mano derecha hacia arriba y recojo\n"
          ]
        }
      ]
    },
    {
      "cell_type": "code",
      "source": [
        "def escalera(a,b):\n",
        "  for j in range(b):\n",
        "     for i in range(a):\n",
        "        print(\"mano derecha horizantal a la altura de la cara en forma de escalera\")\n",
        "     for i in range(a):\n",
        "         print(\"mano derecha izquierda a la altura de la cara en forma de escalera\")"
      ],
      "metadata": {
        "id": "OFN4uJVmmv58"
      },
      "execution_count": 55,
      "outputs": []
    },
    {
      "cell_type": "code",
      "source": [
        "escalera(1,2)"
      ],
      "metadata": {
        "colab": {
          "base_uri": "https://localhost:8080/"
        },
        "id": "yAYB7H-qn0mb",
        "outputId": "9c27a0e8-efcc-4ea2-b484-53671c51a791"
      },
      "execution_count": 58,
      "outputs": [
        {
          "output_type": "stream",
          "name": "stdout",
          "text": [
            "mano derecha horizantal a la altura de la cara en forma de escalera\n",
            "mano derecha izquierda a la altura de la cara en forma de escalera\n",
            "mano derecha horizantal a la altura de la cara en forma de escalera\n",
            "mano derecha izquierda a la altura de la cara en forma de escalera\n"
          ]
        }
      ]
    },
    {
      "cell_type": "code",
      "source": [
        "def abro_brazos (a,b):\n",
        "  for i in range(a):\n",
        "    print(f\"abro {i} brazos hacia a {b}\")"
      ],
      "metadata": {
        "id": "o3kevrr5n-fr"
      },
      "execution_count": 59,
      "outputs": []
    },
    {
      "cell_type": "code",
      "source": [
        "abro_brazos(1,\"afuera y cruzo hacia adentro\")"
      ],
      "metadata": {
        "colab": {
          "base_uri": "https://localhost:8080/"
        },
        "id": "Wkd62hnsoUJi",
        "outputId": "6f3c3b55-faef-4a03-ac39-0cd82647b267"
      },
      "execution_count": 61,
      "outputs": [
        {
          "output_type": "stream",
          "name": "stdout",
          "text": [
            "abro 0 brazos hacia a afuera y cruzo hacia adentro\n"
          ]
        }
      ]
    },
    {
      "cell_type": "code",
      "source": [
        "def meneadito(a,b):\n",
        "  for j in range(b):\n",
        "     for i in range(a):\n",
        "        print(\"muevo cadera y brazos arriba hacía la derecha\")\n",
        "     for i in range(a):\n",
        "         print(\"muevo cadera y brazos arriba hacía la izquierda\")"
      ],
      "metadata": {
        "id": "BWyOC-fgohp7"
      },
      "execution_count": 62,
      "outputs": []
    },
    {
      "cell_type": "code",
      "source": [
        "meneadito (1,2)"
      ],
      "metadata": {
        "colab": {
          "base_uri": "https://localhost:8080/"
        },
        "id": "_fswtdA9o4iC",
        "outputId": "ce1acbf1-bad9-44ce-c1a8-2a78c4c9df71"
      },
      "execution_count": 64,
      "outputs": [
        {
          "output_type": "stream",
          "name": "stdout",
          "text": [
            "muevo cadera y brazos arriba hacía la derecha\n",
            "muevo cadera y brazos arriba hacía la izquierda\n",
            "muevo cadera y brazos arriba hacía la derecha\n",
            "muevo cadera y brazos arriba hacía la izquierda\n"
          ]
        }
      ]
    },
    {
      "cell_type": "code",
      "source": [
        "def pierna(a,b):\n",
        "  for j in range(b):\n",
        "     for i in range(a):\n",
        "        print(\"flexiono pierna derecha hacía dentro\")\n",
        "     for i in range(a):\n",
        "         print(\"flexiono pierna izquierda hacía dentro\")"
      ],
      "metadata": {
        "id": "6LO0ZmIxpBDS"
      },
      "execution_count": 65,
      "outputs": []
    },
    {
      "cell_type": "code",
      "source": [
        "pierna(1,1)"
      ],
      "metadata": {
        "colab": {
          "base_uri": "https://localhost:8080/"
        },
        "id": "IaGrW6LopPg6",
        "outputId": "f2809981-f6b0-4a5a-8992-b0964ed1b126"
      },
      "execution_count": 67,
      "outputs": [
        {
          "output_type": "stream",
          "name": "stdout",
          "text": [
            "flexiono pierna derecha hacía dentro\n",
            "flexiono pierna izquierda hacía dentro\n"
          ]
        }
      ]
    },
    {
      "cell_type": "code",
      "source": [
        "def avanico(a,b):\n",
        "    for i in range(a):\n",
        "      print(f\"levanto {i} brazo izquierdo hacia {b} 90 grados e imito movimiento de abanico\")"
      ],
      "metadata": {
        "id": "uPwYn9OqpYZy"
      },
      "execution_count": 71,
      "outputs": []
    },
    {
      "cell_type": "code",
      "source": [
        "avanico( 1,\"arriba\")"
      ],
      "metadata": {
        "colab": {
          "base_uri": "https://localhost:8080/"
        },
        "id": "2ISyBNO-p27B",
        "outputId": "bf000f87-89d6-47d1-a30b-f201fc0479bb"
      },
      "execution_count": 72,
      "outputs": [
        {
          "output_type": "stream",
          "name": "stdout",
          "text": [
            "levanto 0 brazo izquierdo hacia arriba 90 grados e imito movimiento de abanico\n"
          ]
        }
      ]
    },
    {
      "cell_type": "code",
      "source": [
        "def cruzo_brazos(a,b):\n",
        "    for i in range(a):\n",
        "      print(f\"cruzo {i} brazos hacia {b} y movimiento libre\")"
      ],
      "metadata": {
        "id": "d4I39hcdqdIx"
      },
      "execution_count": 77,
      "outputs": []
    },
    {
      "cell_type": "code",
      "source": [
        "cruzo_brazos(1,\"adentro\")"
      ],
      "metadata": {
        "colab": {
          "base_uri": "https://localhost:8080/"
        },
        "id": "UpV2hB-pq-hJ",
        "outputId": "290d995d-2de3-4d32-eb45-acf12cf1f920"
      },
      "execution_count": 78,
      "outputs": [
        {
          "output_type": "stream",
          "name": "stdout",
          "text": [
            "cruzo 0 brazos hacia adentro y movimiento libre\n"
          ]
        }
      ]
    }
  ]
}