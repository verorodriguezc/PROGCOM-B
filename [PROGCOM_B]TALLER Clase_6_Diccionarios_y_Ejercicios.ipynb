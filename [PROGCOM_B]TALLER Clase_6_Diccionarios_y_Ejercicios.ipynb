{
  "nbformat": 4,
  "nbformat_minor": 0,
  "metadata": {
    "colab": {
      "provenance": []
    },
    "kernelspec": {
      "name": "python3",
      "display_name": "Python 3"
    },
    "language_info": {
      "name": "python"
    }
  },
  "cells": [
    {
      "cell_type": "markdown",
      "source": [
        "##Dicccionarios\n",
        "Estructura de datos que almacena valores\n",
        "\n",
        "Sintaxis\n",
        "\n",
        "\n",
        "```\n",
        "nombre_diccionario={\"llave\":valor}\n",
        "```\n",
        "* Llave: **SIEMPRE** tiene que ser alfanumérica\n",
        "* Valor: Cualquier tipo de dato\n"
      ],
      "metadata": {
        "id": "-H6sno1Han6Q"
      }
    },
    {
      "cell_type": "code",
      "execution_count": 2,
      "metadata": {
        "id": "bY4cf3dJag-R"
      },
      "outputs": [],
      "source": [
        "justicia={\"superhéroes\":[\"Batman\", \"Superman\", \"Wonderwomen\"],\"identidades\":[\"Bruce Wayne\", \"Clark Kent\", \"Diana Prince\"]}"
      ]
    },
    {
      "cell_type": "code",
      "source": [
        "type(justicia)"
      ],
      "metadata": {
        "id": "6BB5bxGgczls",
        "colab": {
          "base_uri": "https://localhost:8080/"
        },
        "outputId": "400c400e-7b8e-43bb-dbda-efd4c1c69bbd"
      },
      "execution_count": 3,
      "outputs": [
        {
          "output_type": "execute_result",
          "data": {
            "text/plain": [
              "dict"
            ]
          },
          "metadata": {},
          "execution_count": 3
        }
      ]
    },
    {
      "cell_type": "code",
      "source": [
        "justicia"
      ],
      "metadata": {
        "colab": {
          "base_uri": "https://localhost:8080/"
        },
        "id": "rRR2BMfydPir",
        "outputId": "4ebed8ff-e6dc-432f-e42d-29309d627929"
      },
      "execution_count": 4,
      "outputs": [
        {
          "output_type": "execute_result",
          "data": {
            "text/plain": [
              "{'superhéroes': ['Batman', 'Superman', 'Wonderwomen'],\n",
              " 'identidades': ['Bruce Wayne', 'Clark Kent', 'Diana Prince']}"
            ]
          },
          "metadata": {},
          "execution_count": 4
        }
      ]
    },
    {
      "cell_type": "markdown",
      "source": [
        "Los diccionarios **NO** tienen indexación"
      ],
      "metadata": {
        "id": "OCxhZTr5dVXi"
      }
    },
    {
      "cell_type": "code",
      "source": [
        "justicia{0}"
      ],
      "metadata": {
        "colab": {
          "base_uri": "https://localhost:8080/",
          "height": 106
        },
        "id": "e-pkKvAOdent",
        "outputId": "90734f94-0c6a-4ab1-9741-a7893be710cb"
      },
      "execution_count": 5,
      "outputs": [
        {
          "output_type": "error",
          "ename": "SyntaxError",
          "evalue": "invalid syntax (ipython-input-2310992461.py, line 1)",
          "traceback": [
            "\u001b[0;36m  File \u001b[0;32m\"/tmp/ipython-input-2310992461.py\"\u001b[0;36m, line \u001b[0;32m1\u001b[0m\n\u001b[0;31m    justicia{0}\u001b[0m\n\u001b[0m            ^\u001b[0m\n\u001b[0;31mSyntaxError\u001b[0m\u001b[0;31m:\u001b[0m invalid syntax\n"
          ]
        }
      ]
    },
    {
      "cell_type": "code",
      "source": [
        "justicia[\"superhéroes\"]"
      ],
      "metadata": {
        "colab": {
          "base_uri": "https://localhost:8080/"
        },
        "id": "lOngDoNHdlBN",
        "outputId": "ffd85803-b039-4e7f-ccb0-7a16b1b1e43b"
      },
      "execution_count": 6,
      "outputs": [
        {
          "output_type": "execute_result",
          "data": {
            "text/plain": [
              "['Batman', 'Superman', 'Wonderwomen']"
            ]
          },
          "metadata": {},
          "execution_count": 6
        }
      ]
    },
    {
      "cell_type": "code",
      "source": [
        "justicia[\"identidades\"][2]"
      ],
      "metadata": {
        "colab": {
          "base_uri": "https://localhost:8080/",
          "height": 35
        },
        "id": "GW-YPFOrd_2t",
        "outputId": "a0a9b159-19d3-4a73-ce50-3d13005f7033"
      },
      "execution_count": 7,
      "outputs": [
        {
          "output_type": "execute_result",
          "data": {
            "text/plain": [
              "'Diana Prince'"
            ],
            "application/vnd.google.colaboratory.intrinsic+json": {
              "type": "string"
            }
          },
          "metadata": {},
          "execution_count": 7
        }
      ]
    },
    {
      "cell_type": "markdown",
      "source": [
        "#Funciones asociadas a los diccionarios"
      ],
      "metadata": {
        "id": "x4pbll5SenHR"
      }
    },
    {
      "cell_type": "markdown",
      "source": [
        "Values:\n",
        "\n",
        "Devuelve todos los valores del diccionario."
      ],
      "metadata": {
        "id": "Qf15_peVfdXt"
      }
    },
    {
      "cell_type": "code",
      "source": [
        "print(justicia.values())\n"
      ],
      "metadata": {
        "colab": {
          "base_uri": "https://localhost:8080/"
        },
        "id": "TSi8Aa7NfnKl",
        "outputId": "af1ff67e-f654-4082-9ecd-5a1afdbce84d"
      },
      "execution_count": 8,
      "outputs": [
        {
          "output_type": "stream",
          "name": "stdout",
          "text": [
            "dict_values([['Batman', 'Superman', 'Wonderwomen'], ['Bruce Wayne', 'Clark Kent', 'Diana Prince']])\n"
          ]
        }
      ]
    },
    {
      "cell_type": "markdown",
      "source": [
        "Update:\n",
        "\n",
        "Permite agregar o actualizar elementos en el diccionario.\n",
        "\n"
      ],
      "metadata": {
        "id": "tWdf6hFDfwOi"
      }
    },
    {
      "cell_type": "code",
      "source": [
        "justicia.update({\"villanos\": [\"Joker\", \"Lex Luthor\"]})\n",
        "print(justicia)\n"
      ],
      "metadata": {
        "colab": {
          "base_uri": "https://localhost:8080/"
        },
        "id": "9VwWotwRf7rs",
        "outputId": "f1b9b7a9-9a91-47d1-9859-8400b525a268"
      },
      "execution_count": 9,
      "outputs": [
        {
          "output_type": "stream",
          "name": "stdout",
          "text": [
            "{'superhéroes': ['Batman', 'Superman', 'Wonderwomen'], 'identidades': ['Bruce Wayne', 'Clark Kent', 'Diana Prince'], 'villanos': ['Joker', 'Lex Luthor']}\n"
          ]
        }
      ]
    },
    {
      "cell_type": "markdown",
      "source": [
        "Setdefault:\n",
        "\n",
        "Si la clave existe, devuelve su valor.\n",
        "Si no existe, la crea con el valor dado.\n"
      ],
      "metadata": {
        "id": "we_Uu8hMgCsc"
      }
    },
    {
      "cell_type": "code",
      "source": [
        "print(justicia.setdefault(\"superhéroes\", []))\n",
        "print(justicia.setdefault(\"base\", \"Metrópolis\"))\n",
        "print(justicia)\n"
      ],
      "metadata": {
        "colab": {
          "base_uri": "https://localhost:8080/"
        },
        "id": "ZLdnvH4lgOh_",
        "outputId": "4dc15e89-ec17-45cc-8274-cd7994b129b5"
      },
      "execution_count": 10,
      "outputs": [
        {
          "output_type": "stream",
          "name": "stdout",
          "text": [
            "['Batman', 'Superman', 'Wonderwomen']\n",
            "Metrópolis\n",
            "{'superhéroes': ['Batman', 'Superman', 'Wonderwomen'], 'identidades': ['Bruce Wayne', 'Clark Kent', 'Diana Prince'], 'villanos': ['Joker', 'Lex Luthor'], 'base': 'Metrópolis'}\n"
          ]
        }
      ]
    },
    {
      "cell_type": "markdown",
      "source": [
        "Popitem:\n",
        "\n",
        "Elimina y devuelve el último par (clave, valor) insertado."
      ],
      "metadata": {
        "id": "XzYa_3DkgeFR"
      }
    },
    {
      "cell_type": "code",
      "source": [
        "print(justicia.popitem())\n",
        "print(justicia)\n"
      ],
      "metadata": {
        "colab": {
          "base_uri": "https://localhost:8080/"
        },
        "id": "eE719FvJgs9e",
        "outputId": "8efe8ec4-4c00-45af-b90f-1b513d67901d"
      },
      "execution_count": 11,
      "outputs": [
        {
          "output_type": "stream",
          "name": "stdout",
          "text": [
            "('base', 'Metrópolis')\n",
            "{'superhéroes': ['Batman', 'Superman', 'Wonderwomen'], 'identidades': ['Bruce Wayne', 'Clark Kent', 'Diana Prince'], 'villanos': ['Joker', 'Lex Luthor']}\n"
          ]
        }
      ]
    },
    {
      "cell_type": "markdown",
      "source": [
        "Pop\n",
        "\n",
        "Elimina un elemento por su clave y devuelve su valor.\n"
      ],
      "metadata": {
        "id": "w4g1hESMgxlF"
      }
    },
    {
      "cell_type": "code",
      "source": [
        "print(justicia.pop(\"villanos\"))\n",
        "print(justicia)\n"
      ],
      "metadata": {
        "colab": {
          "base_uri": "https://localhost:8080/"
        },
        "id": "0qYpLAUwg6zH",
        "outputId": "bb6926f1-deed-4e34-d900-78f623dc0c49"
      },
      "execution_count": 12,
      "outputs": [
        {
          "output_type": "stream",
          "name": "stdout",
          "text": [
            "['Joker', 'Lex Luthor']\n",
            "{'superhéroes': ['Batman', 'Superman', 'Wonderwomen'], 'identidades': ['Bruce Wayne', 'Clark Kent', 'Diana Prince']}\n"
          ]
        }
      ]
    },
    {
      "cell_type": "markdown",
      "source": [
        "Keys\n",
        "\n",
        "Devuelve todas las claves (llaves) del diccionario.\n"
      ],
      "metadata": {
        "id": "yjt0ocThhcNX"
      }
    },
    {
      "cell_type": "code",
      "source": [
        "print(justicia.keys())\n"
      ],
      "metadata": {
        "colab": {
          "base_uri": "https://localhost:8080/"
        },
        "id": "veGoGnlThmwE",
        "outputId": "2b3684e4-0721-42e1-cdf5-c0e9c950927c"
      },
      "execution_count": 13,
      "outputs": [
        {
          "output_type": "stream",
          "name": "stdout",
          "text": [
            "dict_keys(['superhéroes', 'identidades'])\n"
          ]
        }
      ]
    },
    {
      "cell_type": "markdown",
      "source": [
        "Items\n",
        "\n",
        "Devuelve pares (clave, valor) en forma de tuplas.\n"
      ],
      "metadata": {
        "id": "R5T-FaKfhroB"
      }
    },
    {
      "cell_type": "code",
      "source": [
        "print(justicia.items())\n"
      ],
      "metadata": {
        "colab": {
          "base_uri": "https://localhost:8080/"
        },
        "id": "OvNlkzV2h00z",
        "outputId": "db64d8f3-63fc-4ad1-c030-ed49afe72e40"
      },
      "execution_count": 14,
      "outputs": [
        {
          "output_type": "stream",
          "name": "stdout",
          "text": [
            "dict_items([('superhéroes', ['Batman', 'Superman', 'Wonderwomen']), ('identidades', ['Bruce Wayne', 'Clark Kent', 'Diana Prince'])])\n"
          ]
        }
      ]
    },
    {
      "cell_type": "markdown",
      "source": [
        "get\n",
        "\n",
        "Accede al valor de una clave de forma segura (no lanza error si no existe).\n",
        "\n",
        "\n",
        "\n",
        "\n"
      ],
      "metadata": {
        "id": "0ErbwsDoh-dh"
      }
    },
    {
      "cell_type": "code",
      "source": [
        "print(justicia.get(\"superhéroes\"))\n",
        "print(justicia.get(\"villanos\", \"No hay villanos en la Liga de la Justicia\"))\n"
      ],
      "metadata": {
        "id": "2ECz5iO3iQ32",
        "colab": {
          "base_uri": "https://localhost:8080/"
        },
        "outputId": "09729009-f91e-4dd5-e09f-e040a6325db9"
      },
      "execution_count": 15,
      "outputs": [
        {
          "output_type": "stream",
          "name": "stdout",
          "text": [
            "['Batman', 'Superman', 'Wonderwomen']\n",
            "No hay villanos en la Liga de la Justicia\n"
          ]
        }
      ]
    },
    {
      "cell_type": "markdown",
      "source": [
        "fromkeys\n",
        "\n",
        "Crea un diccionario nuevo con un conjunto de claves y un mismo valor por defecto.\n"
      ],
      "metadata": {
        "id": "ln5kGLY7i8_6"
      }
    },
    {
      "cell_type": "code",
      "source": [
        "claves = [\"Batman\", \"Superman\", \"Wonderwoman\"]\n",
        "liga = dict.fromkeys(claves, \"Miembro de la Liga\")\n",
        "print(liga)\n"
      ],
      "metadata": {
        "id": "sQe3TpIci5tN",
        "colab": {
          "base_uri": "https://localhost:8080/"
        },
        "outputId": "d0841e43-9844-4bfa-d18e-1016e0ccc90c"
      },
      "execution_count": 16,
      "outputs": [
        {
          "output_type": "stream",
          "name": "stdout",
          "text": [
            "{'Batman': 'Miembro de la Liga', 'Superman': 'Miembro de la Liga', 'Wonderwoman': 'Miembro de la Liga'}\n"
          ]
        }
      ]
    },
    {
      "cell_type": "markdown",
      "source": [
        "Copy\n",
        "\n",
        "Crea una copia independiente del diccionario."
      ],
      "metadata": {
        "id": "lsVLgA-BjVE8"
      }
    },
    {
      "cell_type": "code",
      "source": [
        "copia = justicia.copy()\n",
        "print(copia)\n"
      ],
      "metadata": {
        "colab": {
          "base_uri": "https://localhost:8080/"
        },
        "id": "wN_qjXWojeNS",
        "outputId": "e1d815b4-f76b-4264-d755-81ef6dfb8432"
      },
      "execution_count": 17,
      "outputs": [
        {
          "output_type": "stream",
          "name": "stdout",
          "text": [
            "{'superhéroes': ['Batman', 'Superman', 'Wonderwomen'], 'identidades': ['Bruce Wayne', 'Clark Kent', 'Diana Prince']}\n"
          ]
        }
      ]
    },
    {
      "cell_type": "markdown",
      "source": [
        "Clear\n",
        "\n",
        "Elimina todo el contenido del diccionario."
      ],
      "metadata": {
        "id": "8MLmOve6jnrr"
      }
    },
    {
      "cell_type": "code",
      "source": [
        "justicia.clear()\n",
        "print(justicia)\n"
      ],
      "metadata": {
        "colab": {
          "base_uri": "https://localhost:8080/"
        },
        "id": "xf4HTZ4JjlwI",
        "outputId": "646134ed-ea6f-478d-a3e6-5ba79e53d896"
      },
      "execution_count": 18,
      "outputs": [
        {
          "output_type": "stream",
          "name": "stdout",
          "text": [
            "{}\n"
          ]
        }
      ]
    },
    {
      "cell_type": "markdown",
      "source": [
        "##EJERCICIOS CON LISTAS\n"
      ],
      "metadata": {
        "id": "Vjf1Nf_x-t3p"
      }
    },
    {
      "cell_type": "markdown",
      "source": [
        "10\tCrea una función que reciba una lista de nombres y retorne cuántos nombres comienzan con vocal."
      ],
      "metadata": {
        "id": "09BU4_ax5tYj"
      }
    },
    {
      "cell_type": "code",
      "source": [
        "def contar_nombres_con_vocal(nombres):\n",
        "    vocales = \"aeiou\"\n",
        "    count = 0\n",
        "    for nombre in nombres:\n",
        "        if nombre[0] in vocales:\n",
        "            count += 1\n",
        "    print(f\"Hay {count} vocales en {nombres}\")\n"
      ],
      "metadata": {
        "id": "03lo30Ea5vnz"
      },
      "execution_count": 19,
      "outputs": []
    },
    {
      "cell_type": "code",
      "source": [
        " contar_nombres_con_vocal(\"luna\")"
      ],
      "metadata": {
        "colab": {
          "base_uri": "https://localhost:8080/"
        },
        "id": "U5ZWHWya6tFi",
        "outputId": "4a50ae42-4e3e-4af4-a52e-696523e89671"
      },
      "execution_count": 20,
      "outputs": [
        {
          "output_type": "stream",
          "name": "stdout",
          "text": [
            "Hay 2 vocales en luna\n"
          ]
        }
      ]
    },
    {
      "cell_type": "markdown",
      "source": [
        "11\tCrea una función que reciba una lista y retorne otra lista sin elementos repetidos."
      ],
      "metadata": {
        "id": "Iz6OHvFq8lm5"
      }
    },
    {
      "cell_type": "code",
      "source": [
        "def eliminar_repetidos(lista):\n",
        "    return list(set(lista))"
      ],
      "metadata": {
        "id": "8RqA2B2m8z1A"
      },
      "execution_count": 21,
      "outputs": []
    },
    {
      "cell_type": "code",
      "source": [
        "eliminar_repetidos([\"1\",\"2\",\"3\"])"
      ],
      "metadata": {
        "colab": {
          "base_uri": "https://localhost:8080/"
        },
        "id": "yJES3xg68-x4",
        "outputId": "6b3609ba-4ea5-444c-abc8-2b3c0cd77b7e"
      },
      "execution_count": 22,
      "outputs": [
        {
          "output_type": "execute_result",
          "data": {
            "text/plain": [
              "['1', '2', '3']"
            ]
          },
          "metadata": {},
          "execution_count": 22
        }
      ]
    },
    {
      "cell_type": "markdown",
      "source": [
        "12\tCrea una función que reciba una lista de números y retorne solo los que son primos."
      ],
      "metadata": {
        "id": "FJEAaD7G9SiA"
      }
    },
    {
      "cell_type": "code",
      "source": [
        "def primo(n):\n",
        "    if n <= 1:\n",
        "        return False\n",
        "    for i in range(2, int(n ** 0.5) + 1):\n",
        "        if n % i == 0:\n",
        "            return False\n",
        "    return True\n",
        "\n",
        "def filtrar_primos(lista):\n",
        "    return [num for num in lista if primo(num)]"
      ],
      "metadata": {
        "id": "CecWPtdT9U-w"
      },
      "execution_count": 23,
      "outputs": []
    },
    {
      "cell_type": "code",
      "source": [
        "filtrar_primos([1, 2, 3])"
      ],
      "metadata": {
        "colab": {
          "base_uri": "https://localhost:8080/"
        },
        "id": "2viaQO__9w0n",
        "outputId": "d6c6e7b5-bd4a-4c00-8093-533d431b767c"
      },
      "execution_count": 24,
      "outputs": [
        {
          "output_type": "execute_result",
          "data": {
            "text/plain": [
              "[2, 3]"
            ]
          },
          "metadata": {},
          "execution_count": 24
        }
      ]
    },
    {
      "cell_type": "markdown",
      "source": [
        "13\tCrea una función que reciba un diccionario con claves 'nombre' y 'edad', y retorne un mensaje con esos datos."
      ],
      "metadata": {
        "id": "tn0Zniei_RA3"
      }
    },
    {
      "cell_type": "code",
      "source": [
        "def mensaje_persona(diccionario):\n",
        "    return f\"El nombre es {diccionario['nombre']} y tiene {diccionario['edad']} años.\"\n"
      ],
      "metadata": {
        "id": "7OCZEMCP_SiG"
      },
      "execution_count": 1,
      "outputs": []
    },
    {
      "cell_type": "code",
      "source": [
        "mensaje_persona({\"nombre\": \"luna\", \"edad\": \"13\"})"
      ],
      "metadata": {
        "colab": {
          "base_uri": "https://localhost:8080/",
          "height": 35
        },
        "id": "xTKKLgPr_g2u",
        "outputId": "3f2c08e8-e35d-46de-ecaf-474f6c9ca5c8"
      },
      "execution_count": 26,
      "outputs": [
        {
          "output_type": "execute_result",
          "data": {
            "text/plain": [
              "'El nombre es luna y tiene 13 años.'"
            ],
            "application/vnd.google.colaboratory.intrinsic+json": {
              "type": "string"
            }
          },
          "metadata": {},
          "execution_count": 26
        }
      ]
    },
    {
      "cell_type": "markdown",
      "source": [
        "14\tCrea una función que reciba un diccionario de productos (clave: nombre, valor: precio) y retorne el total."
      ],
      "metadata": {
        "id": "-hXjgbKQBTY9"
      }
    },
    {
      "cell_type": "code",
      "source": [
        "def total_productos(diccionario):\n",
        "    return sum(diccionario.values())\n"
      ],
      "metadata": {
        "id": "9dFyFybUAcpF"
      },
      "execution_count": 27,
      "outputs": []
    },
    {
      "cell_type": "code",
      "source": [
        "total_productos({\"clave\": 100, \"valor\": 200})"
      ],
      "metadata": {
        "colab": {
          "base_uri": "https://localhost:8080/"
        },
        "id": "R-q9zJA4AfPN",
        "outputId": "b371aaf4-6613-4c5a-a5b0-caa3d4e1ee9d"
      },
      "execution_count": 30,
      "outputs": [
        {
          "output_type": "execute_result",
          "data": {
            "text/plain": [
              "300"
            ]
          },
          "metadata": {},
          "execution_count": 30
        }
      ]
    },
    {
      "cell_type": "markdown",
      "source": [
        "15\tCrea una función que reciba un diccionario de estudiantes (clave: nombre, valor: nota) y retorne el promedio.\n",
        "\n"
      ],
      "metadata": {
        "id": "6CvHR1GiBuJF"
      }
    },
    {
      "cell_type": "code",
      "source": [
        "def promedio_estudiantes(diccionario):\n",
        "    total = sum(diccionario.values())\n",
        "    cantidad = len(diccionario)\n",
        "    return total / cantidad if cantidad > 0 else 0\n"
      ],
      "metadata": {
        "id": "fg_qIpytB3n8"
      },
      "execution_count": 31,
      "outputs": []
    },
    {
      "cell_type": "code",
      "source": [
        "promedio_estudiantes ({\"Ana\": 4.5, \"Carlos\": 3.8, \"Diana\": 4.9})"
      ],
      "metadata": {
        "colab": {
          "base_uri": "https://localhost:8080/"
        },
        "id": "i3abPwpaB74M",
        "outputId": "8adfabfa-3e87-4de5-de22-d24b6f46a10a"
      },
      "execution_count": 49,
      "outputs": [
        {
          "output_type": "execute_result",
          "data": {
            "text/plain": [
              "4.3999999999999995"
            ]
          },
          "metadata": {},
          "execution_count": 49
        }
      ]
    },
    {
      "cell_type": "markdown",
      "source": [
        "16\tCrea una función que reciba un diccionario y un nombre, y retorne la nota si existe o 'no encontrado'."
      ],
      "metadata": {
        "id": "7m_Pne1UC_tb"
      }
    },
    {
      "cell_type": "code",
      "source": [
        "def obtener_nota(diccionario, nombre):\n",
        "    return diccionario.get(nombre, 'No encontrado')"
      ],
      "metadata": {
        "id": "gw6u4zg1DCfD"
      },
      "execution_count": 38,
      "outputs": []
    },
    {
      "cell_type": "code",
      "source": [
        "obtener_nota({\"ana\":5.0, \"luan\":4.0}, \"diana\")"
      ],
      "metadata": {
        "colab": {
          "base_uri": "https://localhost:8080/",
          "height": 35
        },
        "id": "ElbKYhP_DGGb",
        "outputId": "6262cf4a-d664-4d19-c318-974ed037206f"
      },
      "execution_count": 48,
      "outputs": [
        {
          "output_type": "execute_result",
          "data": {
            "text/plain": [
              "'No encontrado'"
            ],
            "application/vnd.google.colaboratory.intrinsic+json": {
              "type": "string"
            }
          },
          "metadata": {},
          "execution_count": 48
        }
      ]
    },
    {
      "cell_type": "markdown",
      "source": [
        "17 Crea una función que reciba un diccionario y retorne el nombre del estudiante con mayor nota."
      ],
      "metadata": {
        "id": "ij0AxDFgEMjK"
      }
    },
    {
      "cell_type": "code",
      "source": [
        "def estudiante_mayor_nota(diccionario):\n",
        "    if diccionario:\n",
        "        return max(diccionario, key=diccionario.get)\n",
        "    return None\n"
      ],
      "metadata": {
        "id": "H1knl5S4ETEa"
      },
      "execution_count": 50,
      "outputs": []
    },
    {
      "cell_type": "code",
      "source": [
        "estudiante_mayor_nota({\"Ana\": 4.5, \"Carlos\": 3.8, \"Diana\": 4.9})"
      ],
      "metadata": {
        "colab": {
          "base_uri": "https://localhost:8080/",
          "height": 35
        },
        "id": "ajn86vYDEPCC",
        "outputId": "38844d6c-52e2-424f-a50c-4ccdc749ad00"
      },
      "execution_count": 51,
      "outputs": [
        {
          "output_type": "execute_result",
          "data": {
            "text/plain": [
              "'Diana'"
            ],
            "application/vnd.google.colaboratory.intrinsic+json": {
              "type": "string"
            }
          },
          "metadata": {},
          "execution_count": 51
        }
      ]
    },
    {
      "cell_type": "markdown",
      "source": [
        "18 Crea una función que reciba un diccionario de productos y retorne los productos con precios mayores a un valor dado."
      ],
      "metadata": {
        "id": "Sel_tRzvEbaC"
      }
    },
    {
      "cell_type": "code",
      "source": [
        "def productos_mayores_a(diccionario, valor):\n",
        "    return {nombre: precio for nombre, precio in diccionario.items() if precio > valor}\n"
      ],
      "metadata": {
        "id": "qxX3bt_GEf1q"
      },
      "execution_count": 52,
      "outputs": []
    },
    {
      "cell_type": "code",
      "source": [
        "productos_mayores_a({\"Carne\": 1000, \"Arroz\": 500, \"Tomate\": 300}, 400)"
      ],
      "metadata": {
        "colab": {
          "base_uri": "https://localhost:8080/"
        },
        "id": "6OQ-aISgEinD",
        "outputId": "3069837b-1b9d-496c-c62f-ddc71a3a444c"
      },
      "execution_count": 53,
      "outputs": [
        {
          "output_type": "execute_result",
          "data": {
            "text/plain": [
              "{'Carne': 1000, 'Arroz': 500}"
            ]
          },
          "metadata": {},
          "execution_count": 53
        }
      ]
    },
    {
      "cell_type": "markdown",
      "source": [
        "19 Crea una función que reciba un diccionario de empleados (clave: nombre, valor: lista de horas trabajadas) y retorne el total de horas por empleado."
      ],
      "metadata": {
        "id": "3nwsBPrSExeq"
      }
    },
    {
      "cell_type": "code",
      "source": [
        "def total_horas_trabajadas(diccionario):\n",
        "    return {nombre: sum(horas) for nombre, horas in diccionario.items()}\n"
      ],
      "metadata": {
        "id": "vH9RweEgEzES"
      },
      "execution_count": 56,
      "outputs": []
    },
    {
      "cell_type": "code",
      "source": [
        "total_horas_trabajadas({\"Ana\": {1: 8, 2: 7, 3: 9},\"Carlos\": {1: 6, 2: 6, 3: 6},\"Diana\": {1: 8, 2: 8, 3: 8}})"
      ],
      "metadata": {
        "colab": {
          "base_uri": "https://localhost:8080/"
        },
        "id": "OmQhbeyCE125",
        "outputId": "76bf83e6-c6f9-4912-b533-4e5ca190b022"
      },
      "execution_count": 57,
      "outputs": [
        {
          "output_type": "execute_result",
          "data": {
            "text/plain": [
              "{'Ana': 6, 'Carlos': 6, 'Diana': 6}"
            ]
          },
          "metadata": {},
          "execution_count": 57
        }
      ]
    },
    {
      "cell_type": "markdown",
      "source": [
        "##EJERCICIOS CON DICCIONARIO"
      ],
      "metadata": {
        "id": "yeO6oPFM_1l2"
      }
    },
    {
      "cell_type": "markdown",
      "source": [
        "10\tCrea una función que reciba una lista de nombres y retorne cuántos nombres comienzan con vocal."
      ],
      "metadata": {
        "id": "PFYEacUDBEG_"
      }
    },
    {
      "cell_type": "code",
      "source": [
        "def contar_vocales(nombres):\n",
        "    vocales = \"aeiouAEIOU\"\n",
        "    contador = 0\n",
        "    for k in nombres:\n",
        "        if nombres[k][0] in vocales:\n",
        "            contador += 1\n",
        "    return contador\n",
        "\n",
        "print(contar_vocales({1: \"Ana\", 2: \"Oscar\", 3: \"Luis\", 4: \"Elena\"}))"
      ],
      "metadata": {
        "colab": {
          "base_uri": "https://localhost:8080/"
        },
        "id": "70DnWsdrBG-N",
        "outputId": "ca088613-0c6f-4cac-eb0a-5182ec3a1513"
      },
      "execution_count": 28,
      "outputs": [
        {
          "output_type": "stream",
          "name": "stdout",
          "text": [
            "3\n"
          ]
        }
      ]
    },
    {
      "cell_type": "markdown",
      "source": [
        "11\tCrea una función que reciba una lista y retorne otra lista sin elementos repetidos."
      ],
      "metadata": {
        "id": "RMEAk-dMBORu"
      }
    },
    {
      "cell_type": "code",
      "source": [
        "def eliminar_repetidos(diccionario):\n",
        "    nuevo = {}\n",
        "    for k in diccionario:\n",
        "        if diccionario[k] not in nuevo.values():\n",
        "            nuevo[k] = diccionario[k]\n",
        "    return nuevo\n",
        "\n",
        "print(eliminar_repetidos({1: \"Batman\", 2: \"Superman\", 3: \"Batman\"}))"
      ],
      "metadata": {
        "colab": {
          "base_uri": "https://localhost:8080/"
        },
        "id": "Q5yXF3M4CBnE",
        "outputId": "f0ad4e08-1ee3-40b1-f73c-f65bd4990cfc"
      },
      "execution_count": 32,
      "outputs": [
        {
          "output_type": "stream",
          "name": "stdout",
          "text": [
            "{1: 'Batman', 2: 'Superman'}\n"
          ]
        }
      ]
    },
    {
      "cell_type": "markdown",
      "source": [
        "12\tCrea una función que reciba una lista de números y retorne solo los que son primos."
      ],
      "metadata": {
        "id": "GwZTEBPNBQU-"
      }
    },
    {
      "cell_type": "code",
      "source": [
        "def es_primo(n):\n",
        "    if n < 2:\n",
        "        return False\n",
        "    i = 2\n",
        "    while i * i <= n:\n",
        "        if n % i == 0:\n",
        "            return False\n",
        "        i += 1\n",
        "    return True\n",
        "\n",
        "def filtrar_primos(diccionario):\n",
        "    nuevo = {}\n",
        "    for k in diccionario:\n",
        "        if es_primo(diccionario[k]):\n",
        "            nuevo[k] = diccionario[k]\n",
        "    return nuevo\n",
        "\n",
        "print(filtrar_primos({1: 2, 2: 4, 3: 5, 4: 10, 5: 13}))"
      ],
      "metadata": {
        "colab": {
          "base_uri": "https://localhost:8080/"
        },
        "id": "0lL4udjaCEJM",
        "outputId": "0a997f28-75ed-4fee-8ec5-a6eb066b86e8"
      },
      "execution_count": 33,
      "outputs": [
        {
          "output_type": "stream",
          "name": "stdout",
          "text": [
            "{1: 2, 3: 5, 5: 13}\n"
          ]
        }
      ]
    },
    {
      "cell_type": "markdown",
      "source": [
        "13\tCrea una función que reciba un diccionario con claves 'nombre' y 'edad', y retorne un mensaje con esos datos."
      ],
      "metadata": {
        "id": "V_QsCMUrBR9u"
      }
    },
    {
      "cell_type": "code",
      "source": [
        "def mensaje(diccionario):\n",
        "    return \"Nombre: \" + diccionario[\"nombre\"] + \", Edad: \" + str(diccionario[\"edad\"])\n",
        "\n",
        "print(mensaje({\"nombre\": \"Clark Kent\", \"edad\": 30}))"
      ],
      "metadata": {
        "colab": {
          "base_uri": "https://localhost:8080/"
        },
        "id": "lRR5KLpRCG8s",
        "outputId": "cf8b3669-f18a-4bb7-efd6-506b8296b38a"
      },
      "execution_count": 34,
      "outputs": [
        {
          "output_type": "stream",
          "name": "stdout",
          "text": [
            "Nombre: Clark Kent, Edad: 30\n"
          ]
        }
      ]
    },
    {
      "cell_type": "markdown",
      "source": [
        "14\tCrea una función que reciba un diccionario de productos (clave: nombre, valor: precio) y retorne el total."
      ],
      "metadata": {
        "id": "FuzlOSEoBVfu"
      }
    },
    {
      "cell_type": "code",
      "source": [
        "def total_productos(productos):\n",
        "    total = 0\n",
        "    for k in productos:\n",
        "        total += productos[k]\n",
        "    return total\n",
        "\n",
        "print(total_productos({\"Carro\": 1000, \"Lazo\": 500, \"Martillo\": 300}))"
      ],
      "metadata": {
        "colab": {
          "base_uri": "https://localhost:8080/"
        },
        "id": "wZ_idqj2CLSU",
        "outputId": "703cd461-e795-482c-bcb3-dc670b2994c8"
      },
      "execution_count": 42,
      "outputs": [
        {
          "output_type": "stream",
          "name": "stdout",
          "text": [
            "1800\n"
          ]
        }
      ]
    },
    {
      "cell_type": "markdown",
      "source": [
        "15\tCrea una función que reciba un diccionario de estudiantes (clave: nombre, valor: nota) y retorne el promedio.\n",
        "\n"
      ],
      "metadata": {
        "id": "Vnq-JaMVCO1t"
      }
    },
    {
      "cell_type": "code",
      "source": [
        "def promedio_notas(estudiantes):\n",
        "    suma = 0\n",
        "    for k in estudiantes:\n",
        "        suma += estudiantes[k]\n",
        "    return suma / len(estudiantes)\n",
        "\n",
        "print(promedio_notas({\"Ana\": 4.5, \"Carlos\": 3.8, \"Diana\": 4.9}))"
      ],
      "metadata": {
        "colab": {
          "base_uri": "https://localhost:8080/"
        },
        "id": "Od_O5_pgCQEM",
        "outputId": "1dddd130-3bd2-4267-be6a-a1b79c762b8e"
      },
      "execution_count": 43,
      "outputs": [
        {
          "output_type": "stream",
          "name": "stdout",
          "text": [
            "4.4\n"
          ]
        }
      ]
    },
    {
      "cell_type": "markdown",
      "source": [
        "16\tCrea una función que reciba un diccionario y un nombre, y retorne la nota si existe o 'no encontrado'."
      ],
      "metadata": {
        "id": "IrX1Efv8CSB0"
      }
    },
    {
      "cell_type": "code",
      "source": [
        "def buscar_nota(estudiantes, nombre):\n",
        "    if nombre in estudiantes:\n",
        "        return estudiantes[nombre]\n",
        "    else:\n",
        "        return \"no encontrado\"\n",
        "\n",
        "print(buscar_nota({\"Ana\": 4.5, \"Carlos\": 3.8}, \"Diana\"))"
      ],
      "metadata": {
        "colab": {
          "base_uri": "https://localhost:8080/"
        },
        "id": "7NPdE-LdCUDs",
        "outputId": "015f1ad0-de8e-4ed3-f159-0a2fa465848a"
      },
      "execution_count": 41,
      "outputs": [
        {
          "output_type": "stream",
          "name": "stdout",
          "text": [
            "no encontrado\n"
          ]
        }
      ]
    },
    {
      "cell_type": "markdown",
      "source": [
        "17\tCrea una función que reciba un diccionario y retorne el nombre del estudiante con mayor nota."
      ],
      "metadata": {
        "id": "ZCzSPgqZCWgU"
      }
    },
    {
      "cell_type": "code",
      "source": [
        "def mejor_nota(estudiantes):\n",
        "    mayor = None\n",
        "    nombre = \"\"\n",
        "    for k in estudiantes:\n",
        "        if mayor is None or estudiantes[k] > mayor:\n",
        "            mayor = estudiantes[k]\n",
        "            nombre = k\n",
        "    return nombre\n",
        "\n",
        "print(mejor_nota({\"Ana\": 4.5, \"Carlos\": 3.8, \"Diana\": 4.9}))"
      ],
      "metadata": {
        "colab": {
          "base_uri": "https://localhost:8080/"
        },
        "id": "cbNEbWXrCYnU",
        "outputId": "a2412b3a-6502-42b1-9b9f-1fb328df1b59"
      },
      "execution_count": 44,
      "outputs": [
        {
          "output_type": "stream",
          "name": "stdout",
          "text": [
            "Diana\n"
          ]
        }
      ]
    },
    {
      "cell_type": "markdown",
      "source": [
        "18\tCrea una función que reciba un diccionario de productos y retorne los productos con precios mayores a un valor dado."
      ],
      "metadata": {
        "id": "lkJ_Lpq9Cbd8"
      }
    },
    {
      "cell_type": "code",
      "source": [
        "def productos_caros(productos, valor):\n",
        "    nuevo = {}\n",
        "    for k in productos:\n",
        "        if productos[k] > valor:\n",
        "            nuevo[k] = productos[k]\n",
        "    return nuevo\n",
        "print(productos_caros({\"Carne\": 1000, \"Arroz\": 500, \"Tomate\": 300}, 400))"
      ],
      "metadata": {
        "colab": {
          "base_uri": "https://localhost:8080/"
        },
        "id": "YShEfnCLCdpE",
        "outputId": "fa6db470-933d-48db-fb3c-62381ad5b3f6"
      },
      "execution_count": 45,
      "outputs": [
        {
          "output_type": "stream",
          "name": "stdout",
          "text": [
            "{'Carne': 1000, 'Arroz': 500}\n"
          ]
        }
      ]
    },
    {
      "cell_type": "markdown",
      "source": [
        "19\tCrea una función que reciba un diccionario de empleados (clave: nombre, valor: lista de horas trabajadas) y retorne el total de horas por empleado."
      ],
      "metadata": {
        "id": "GIKxd03yCg1T"
      }
    },
    {
      "cell_type": "code",
      "source": [
        "def total_horas(empleados):\n",
        "    nuevo = {}\n",
        "    for k in empleados:\n",
        "        total = 0\n",
        "        for h in empleados[k]:\n",
        "            total += empleados[k][h]\n",
        "        nuevo[k] = total\n",
        "    return nuevo\n",
        "\n",
        "print(total_horas({\n",
        "    \"Ana\": {1: 8, 2: 7, 3: 9},\n",
        "    \"Carlos\": {1: 6, 2: 6, 3: 6},\n",
        "    \"Diana\": {1: 8, 2: 8, 3: 8}\n",
        "}))"
      ],
      "metadata": {
        "colab": {
          "base_uri": "https://localhost:8080/"
        },
        "id": "jJBTHd7DCgi8",
        "outputId": "9673ccd1-d195-4ebc-fbf6-21aea5765488"
      },
      "execution_count": 46,
      "outputs": [
        {
          "output_type": "stream",
          "name": "stdout",
          "text": [
            "{'Ana': 24, 'Carlos': 18, 'Diana': 24}\n"
          ]
        }
      ]
    }
  ]
}
