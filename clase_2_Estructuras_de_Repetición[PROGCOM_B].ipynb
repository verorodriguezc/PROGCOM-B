{
  "nbformat": 4,
  "nbformat_minor": 0,
  "metadata": {
    "colab": {
      "provenance": []
    },
    "kernelspec": {
      "name": "python3",
      "display_name": "Python 3"
    },
    "language_info": {
      "name": "python"
    }
  },
  "cells": [
    {
      "cell_type": "markdown",
      "source": [
        "##Estructuras de repetición\n",
        "Se emplean cuando se desea repetir una parte del código dada una condición\n"
      ],
      "metadata": {
        "id": "sbgWHmQcwZ6t"
      }
    },
    {
      "cell_type": "markdown",
      "source": [
        "##Listas\n",
        "Son un conjunto de objetos, **indexado**, separados por comas y encerrado entre [ ].\n",
        "* Todos los elementos dentro de una lista. se empiezan a contar desde 0\n",
        "###Creación de listas\n",
        "* Forma genera: Listas= [ ]\n",
        "* Forma manual: animales=[\"gato\", \"pero\", \"zorro\", \"oso\"]\n",
        "* Por conversión: número=list(range(10))"
      ],
      "metadata": {
        "id": "Sq0IcSLswdQk"
      }
    },
    {
      "cell_type": "code",
      "source": [
        "lista=[]"
      ],
      "metadata": {
        "id": "hyN8VZ69mm2e"
      },
      "execution_count": 1,
      "outputs": []
    },
    {
      "cell_type": "code",
      "source": [
        "type(lista)"
      ],
      "metadata": {
        "colab": {
          "base_uri": "https://localhost:8080/"
        },
        "id": "LhQN--OqxbJc",
        "outputId": "7035a4a3-b933-4139-c35f-b72f62f29ab0"
      },
      "execution_count": 4,
      "outputs": [
        {
          "output_type": "execute_result",
          "data": {
            "text/plain": [
              "list"
            ]
          },
          "metadata": {},
          "execution_count": 4
        }
      ]
    },
    {
      "cell_type": "code",
      "source": [
        "zorro=(1,2,3,4)\n",
        "animales=[\"gato\",\"perro\",zorro,\"oso\"]\n",
        "animales"
      ],
      "metadata": {
        "colab": {
          "base_uri": "https://localhost:8080/"
        },
        "id": "wwLFz4Blxuks",
        "outputId": "deb3118f-6c19-425d-9507-a77949d62fa7"
      },
      "execution_count": 5,
      "outputs": [
        {
          "output_type": "execute_result",
          "data": {
            "text/plain": [
              "['gato', 'perro', (1, 2, 3, 4), 'oso']"
            ]
          },
          "metadata": {},
          "execution_count": 5
        }
      ]
    },
    {
      "cell_type": "code",
      "source": [
        "type(zorro)"
      ],
      "metadata": {
        "colab": {
          "base_uri": "https://localhost:8080/"
        },
        "id": "SJoCmAPjyKmL",
        "outputId": "acaa1b6a-e5bf-4519-e901-cb6035d91c04"
      },
      "execution_count": 6,
      "outputs": [
        {
          "output_type": "execute_result",
          "data": {
            "text/plain": [
              "tuple"
            ]
          },
          "metadata": {},
          "execution_count": 6
        }
      ]
    },
    {
      "cell_type": "code",
      "source": [
        "número=list(range(10))\n",
        "número"
      ],
      "metadata": {
        "colab": {
          "base_uri": "https://localhost:8080/"
        },
        "id": "O1RxQ2llzBaD",
        "outputId": "2e4be394-2697-4800-8433-f0124ce7bce7"
      },
      "execution_count": 9,
      "outputs": [
        {
          "output_type": "execute_result",
          "data": {
            "text/plain": [
              "[0, 1, 2, 3, 4, 5, 6, 7, 8, 9]"
            ]
          },
          "metadata": {},
          "execution_count": 9
        }
      ]
    },
    {
      "cell_type": "code",
      "source": [
        "range(10)"
      ],
      "metadata": {
        "colab": {
          "base_uri": "https://localhost:8080/"
        },
        "id": "8N-wa_c3zOr6",
        "outputId": "74e16566-67db-4ab2-f71c-2245e8bbfa1b"
      },
      "execution_count": 10,
      "outputs": [
        {
          "output_type": "execute_result",
          "data": {
            "text/plain": [
              "range(0, 10)"
            ]
          },
          "metadata": {},
          "execution_count": 10
        }
      ]
    },
    {
      "cell_type": "markdown",
      "source": [
        "##Estructura para-for\n",
        "Se usa cuando\n",
        "* Se sabe **cuántas veces** se repite una acción.\n",
        "* Esta compuesta por un contador y una condición\n",
        "* **Contador**: Identifica cuantas veces se va a repetir el bucle y con qué frecuencia.\n",
        "* **Condición**: Evalúa cuándo se detiene.\n",
        "\n",
        "Por definición:\n",
        "```\n",
        "for variable in range(vi, vf+1, paso):\n",
        " aquí se repite parte del código.\n",
        "```\n",
        "Donde\n",
        "1. vi: Condición inicial. Dónde arranco a contar.\n",
        "2. vf+1: Condición final. Dónde dejo de contar+1\n",
        "3. paso: Frecuencia de conteo\n",
        "\n",
        "for para recorrido de listas\n",
        "flor=[\"amapola\",\"rosa\",\"tulipán\",\"orquídea\"]\n",
        "* El para va a iterar tantas veces como elementos tenga la lista\n",
        "* La variable dentro del para, toma como valor, cada elemento de la lista\n",
        "```\n",
        "for variable in lista:\n",
        " variable\n",
        "```\n",
        "\n"
      ],
      "metadata": {
        "id": "KF1WvE--lyXe"
      }
    },
    {
      "cell_type": "code",
      "source": [
        "#Creando una lista de nombre flor\n",
        "flor=[\"amapola\",\"rosa\",\"tulipán\",\"orquídea\"]\n",
        "for rosa in flor:\n",
        "  print(rosa)\n",
        "  if flores==\"tulipán\":\n",
        "    break"
      ],
      "metadata": {
        "colab": {
          "base_uri": "https://localhost:8080/"
        },
        "id": "wQzlSyjO0rZi",
        "outputId": "e0085588-9e10-4e15-8aa3-bc0569cce268"
      },
      "execution_count": 13,
      "outputs": [
        {
          "output_type": "stream",
          "name": "stdout",
          "text": [
            "amapola\n",
            "rosa\n",
            "tulipán\n",
            "orquídea\n"
          ]
        }
      ]
    },
    {
      "cell_type": "markdown",
      "source": [
        "##Estructura while\n",
        "* Se emplea cuando **NO SE SABE**\n",
        "cuántas veces se debe repetir una acción, pero si se conoce si condición de parada (CP).\n",
        "* Condición inicial: Dónde arranca el ciclo\n",
        "* Condición final (parada): Que indica dónde se detiene el ciclo\n",
        "* Modificador de condición inicial\n",
        "\n",
        "Estructura general del mientras\n",
        "\n",
        "\n",
        "```\n",
        "Condición inicial\n",
        "while (condición==condición final):\n",
        " modificador de condición inicial\n",
        "```\n",
        "Modificadores de condición inicial\n",
        "* Banderas: son booleanos\n",
        "* Son preguntas\n",
        "* Son contadores o acumuladores\n"
      ],
      "metadata": {
        "id": "95VNldpH2YzI"
      }
    }
  ]
}